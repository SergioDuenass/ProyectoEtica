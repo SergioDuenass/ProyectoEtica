{
 "cells": [
  {
   "cell_type": "code",
   "execution_count": 5,
   "metadata": {},
   "outputs": [],
   "source": [
    "import pandas as pd"
   ]
  },
  {
   "cell_type": "code",
   "execution_count": 6,
   "metadata": {},
   "outputs": [],
   "source": [
    "df = pd.read_csv(\"../data/bankloan.csv\")\n",
    "df['Experience'] = abs(df['Experience'])"
   ]
  },
  {
   "cell_type": "markdown",
   "metadata": {},
   "source": [
    "### Usamos SelectKBest para poder ver cuales son las variables que más nos convienen a nuestra variable target"
   ]
  },
  {
   "cell_type": "code",
   "execution_count": 7,
   "metadata": {},
   "outputs": [],
   "source": [
    "from sklearn.feature_selection import SelectKBest, f_regression"
   ]
  },
  {
   "cell_type": "code",
   "execution_count": 8,
   "metadata": {},
   "outputs": [
    {
     "data": {
      "text/plain": [
       "Index(['Income', 'CCAvg', 'Education', 'Mortgage', 'CD.Account'], dtype='object')"
      ]
     },
     "execution_count": 8,
     "metadata": {},
     "output_type": "execute_result"
    }
   ],
   "source": [
    "\n",
    "# Definir X como una serie (una sola columna)\n",
    "X = df.drop(columns=['Personal.Loan'])\n",
    "\n",
    "# Definir y como un DataFrame que excluye la columna 'Personal.Loan'\n",
    "y = df[\"Personal.Loan\"]\n",
    "\n",
    "# Usamos la libreria proporciada para seleccionar las mejores variables\n",
    "selecKBest = SelectKBest(score_func=f_regression, k=5) \n",
    "selecKBest.fit(X, y)\n",
    "\n",
    "# Obtener las características seleccionadas\n",
    "variables = X.columns[selecKBest.get_support()]\n",
    "\n",
    "variables\n"
   ]
  },
  {
   "cell_type": "markdown",
   "metadata": {},
   "source": [
    "### Ahora para poder correr varios modelos y ahorrarnos tiempo usaremos pycaret"
   ]
  },
  {
   "cell_type": "code",
   "execution_count": 9,
   "metadata": {},
   "outputs": [],
   "source": [
    "from pycaret.classification import *"
   ]
  },
  {
   "cell_type": "code",
   "execution_count": 10,
   "metadata": {},
   "outputs": [
    {
     "data": {
      "text/html": [
       "<style type=\"text/css\">\n",
       "#T_fed7d_row9_col1 {\n",
       "  background-color: lightgreen;\n",
       "}\n",
       "</style>\n",
       "<table id=\"T_fed7d\">\n",
       "  <thead>\n",
       "    <tr>\n",
       "      <th class=\"blank level0\" >&nbsp;</th>\n",
       "      <th id=\"T_fed7d_level0_col0\" class=\"col_heading level0 col0\" >Description</th>\n",
       "      <th id=\"T_fed7d_level0_col1\" class=\"col_heading level0 col1\" >Value</th>\n",
       "    </tr>\n",
       "  </thead>\n",
       "  <tbody>\n",
       "    <tr>\n",
       "      <th id=\"T_fed7d_level0_row0\" class=\"row_heading level0 row0\" >0</th>\n",
       "      <td id=\"T_fed7d_row0_col0\" class=\"data row0 col0\" >Session id</td>\n",
       "      <td id=\"T_fed7d_row0_col1\" class=\"data row0 col1\" >123</td>\n",
       "    </tr>\n",
       "    <tr>\n",
       "      <th id=\"T_fed7d_level0_row1\" class=\"row_heading level0 row1\" >1</th>\n",
       "      <td id=\"T_fed7d_row1_col0\" class=\"data row1 col0\" >Target</td>\n",
       "      <td id=\"T_fed7d_row1_col1\" class=\"data row1 col1\" >Personal.Loan</td>\n",
       "    </tr>\n",
       "    <tr>\n",
       "      <th id=\"T_fed7d_level0_row2\" class=\"row_heading level0 row2\" >2</th>\n",
       "      <td id=\"T_fed7d_row2_col0\" class=\"data row2 col0\" >Target type</td>\n",
       "      <td id=\"T_fed7d_row2_col1\" class=\"data row2 col1\" >Binary</td>\n",
       "    </tr>\n",
       "    <tr>\n",
       "      <th id=\"T_fed7d_level0_row3\" class=\"row_heading level0 row3\" >3</th>\n",
       "      <td id=\"T_fed7d_row3_col0\" class=\"data row3 col0\" >Original data shape</td>\n",
       "      <td id=\"T_fed7d_row3_col1\" class=\"data row3 col1\" >(5000, 6)</td>\n",
       "    </tr>\n",
       "    <tr>\n",
       "      <th id=\"T_fed7d_level0_row4\" class=\"row_heading level0 row4\" >4</th>\n",
       "      <td id=\"T_fed7d_row4_col0\" class=\"data row4 col0\" >Transformed data shape</td>\n",
       "      <td id=\"T_fed7d_row4_col1\" class=\"data row4 col1\" >(5000, 8)</td>\n",
       "    </tr>\n",
       "    <tr>\n",
       "      <th id=\"T_fed7d_level0_row5\" class=\"row_heading level0 row5\" >5</th>\n",
       "      <td id=\"T_fed7d_row5_col0\" class=\"data row5 col0\" >Transformed train set shape</td>\n",
       "      <td id=\"T_fed7d_row5_col1\" class=\"data row5 col1\" >(3500, 8)</td>\n",
       "    </tr>\n",
       "    <tr>\n",
       "      <th id=\"T_fed7d_level0_row6\" class=\"row_heading level0 row6\" >6</th>\n",
       "      <td id=\"T_fed7d_row6_col0\" class=\"data row6 col0\" >Transformed test set shape</td>\n",
       "      <td id=\"T_fed7d_row6_col1\" class=\"data row6 col1\" >(1500, 8)</td>\n",
       "    </tr>\n",
       "    <tr>\n",
       "      <th id=\"T_fed7d_level0_row7\" class=\"row_heading level0 row7\" >7</th>\n",
       "      <td id=\"T_fed7d_row7_col0\" class=\"data row7 col0\" >Numeric features</td>\n",
       "      <td id=\"T_fed7d_row7_col1\" class=\"data row7 col1\" >3</td>\n",
       "    </tr>\n",
       "    <tr>\n",
       "      <th id=\"T_fed7d_level0_row8\" class=\"row_heading level0 row8\" >8</th>\n",
       "      <td id=\"T_fed7d_row8_col0\" class=\"data row8 col0\" >Categorical features</td>\n",
       "      <td id=\"T_fed7d_row8_col1\" class=\"data row8 col1\" >2</td>\n",
       "    </tr>\n",
       "    <tr>\n",
       "      <th id=\"T_fed7d_level0_row9\" class=\"row_heading level0 row9\" >9</th>\n",
       "      <td id=\"T_fed7d_row9_col0\" class=\"data row9 col0\" >Preprocess</td>\n",
       "      <td id=\"T_fed7d_row9_col1\" class=\"data row9 col1\" >True</td>\n",
       "    </tr>\n",
       "    <tr>\n",
       "      <th id=\"T_fed7d_level0_row10\" class=\"row_heading level0 row10\" >10</th>\n",
       "      <td id=\"T_fed7d_row10_col0\" class=\"data row10 col0\" >Imputation type</td>\n",
       "      <td id=\"T_fed7d_row10_col1\" class=\"data row10 col1\" >simple</td>\n",
       "    </tr>\n",
       "    <tr>\n",
       "      <th id=\"T_fed7d_level0_row11\" class=\"row_heading level0 row11\" >11</th>\n",
       "      <td id=\"T_fed7d_row11_col0\" class=\"data row11 col0\" >Numeric imputation</td>\n",
       "      <td id=\"T_fed7d_row11_col1\" class=\"data row11 col1\" >mean</td>\n",
       "    </tr>\n",
       "    <tr>\n",
       "      <th id=\"T_fed7d_level0_row12\" class=\"row_heading level0 row12\" >12</th>\n",
       "      <td id=\"T_fed7d_row12_col0\" class=\"data row12 col0\" >Categorical imputation</td>\n",
       "      <td id=\"T_fed7d_row12_col1\" class=\"data row12 col1\" >mode</td>\n",
       "    </tr>\n",
       "    <tr>\n",
       "      <th id=\"T_fed7d_level0_row13\" class=\"row_heading level0 row13\" >13</th>\n",
       "      <td id=\"T_fed7d_row13_col0\" class=\"data row13 col0\" >Maximum one-hot encoding</td>\n",
       "      <td id=\"T_fed7d_row13_col1\" class=\"data row13 col1\" >25</td>\n",
       "    </tr>\n",
       "    <tr>\n",
       "      <th id=\"T_fed7d_level0_row14\" class=\"row_heading level0 row14\" >14</th>\n",
       "      <td id=\"T_fed7d_row14_col0\" class=\"data row14 col0\" >Encoding method</td>\n",
       "      <td id=\"T_fed7d_row14_col1\" class=\"data row14 col1\" >None</td>\n",
       "    </tr>\n",
       "    <tr>\n",
       "      <th id=\"T_fed7d_level0_row15\" class=\"row_heading level0 row15\" >15</th>\n",
       "      <td id=\"T_fed7d_row15_col0\" class=\"data row15 col0\" >Fold Generator</td>\n",
       "      <td id=\"T_fed7d_row15_col1\" class=\"data row15 col1\" >StratifiedKFold</td>\n",
       "    </tr>\n",
       "    <tr>\n",
       "      <th id=\"T_fed7d_level0_row16\" class=\"row_heading level0 row16\" >16</th>\n",
       "      <td id=\"T_fed7d_row16_col0\" class=\"data row16 col0\" >Fold Number</td>\n",
       "      <td id=\"T_fed7d_row16_col1\" class=\"data row16 col1\" >10</td>\n",
       "    </tr>\n",
       "    <tr>\n",
       "      <th id=\"T_fed7d_level0_row17\" class=\"row_heading level0 row17\" >17</th>\n",
       "      <td id=\"T_fed7d_row17_col0\" class=\"data row17 col0\" >CPU Jobs</td>\n",
       "      <td id=\"T_fed7d_row17_col1\" class=\"data row17 col1\" >-1</td>\n",
       "    </tr>\n",
       "    <tr>\n",
       "      <th id=\"T_fed7d_level0_row18\" class=\"row_heading level0 row18\" >18</th>\n",
       "      <td id=\"T_fed7d_row18_col0\" class=\"data row18 col0\" >Use GPU</td>\n",
       "      <td id=\"T_fed7d_row18_col1\" class=\"data row18 col1\" >False</td>\n",
       "    </tr>\n",
       "    <tr>\n",
       "      <th id=\"T_fed7d_level0_row19\" class=\"row_heading level0 row19\" >19</th>\n",
       "      <td id=\"T_fed7d_row19_col0\" class=\"data row19 col0\" >Log Experiment</td>\n",
       "      <td id=\"T_fed7d_row19_col1\" class=\"data row19 col1\" >False</td>\n",
       "    </tr>\n",
       "    <tr>\n",
       "      <th id=\"T_fed7d_level0_row20\" class=\"row_heading level0 row20\" >20</th>\n",
       "      <td id=\"T_fed7d_row20_col0\" class=\"data row20 col0\" >Experiment Name</td>\n",
       "      <td id=\"T_fed7d_row20_col1\" class=\"data row20 col1\" >clf-default-name</td>\n",
       "    </tr>\n",
       "    <tr>\n",
       "      <th id=\"T_fed7d_level0_row21\" class=\"row_heading level0 row21\" >21</th>\n",
       "      <td id=\"T_fed7d_row21_col0\" class=\"data row21 col0\" >USI</td>\n",
       "      <td id=\"T_fed7d_row21_col1\" class=\"data row21 col1\" >eb4d</td>\n",
       "    </tr>\n",
       "  </tbody>\n",
       "</table>\n"
      ],
      "text/plain": [
       "<pandas.io.formats.style.Styler at 0x177afc670>"
      ]
     },
     "metadata": {},
     "output_type": "display_data"
    }
   ],
   "source": [
    "# Definir las características numéricas y categóricas\n",
    "numeric_features = ['Income', 'CCAvg', 'Mortgage']\n",
    "categorical_features = ['Education', 'CD.Account']\n",
    "\n",
    "# Configurar el entorno de experimentación\n",
    "s = setup(data=df[['Income', 'CCAvg', 'Education', 'Mortgage', 'CD.Account', 'Personal.Loan']], \n",
    "          target='Personal.Loan', \n",
    "          session_id=123,\n",
    "          numeric_features=numeric_features,\n",
    "          categorical_features=categorical_features)"
   ]
  },
  {
   "cell_type": "code",
   "execution_count": 11,
   "metadata": {},
   "outputs": [
    {
     "data": {
      "text/html": [],
      "text/plain": [
       "<IPython.core.display.HTML object>"
      ]
     },
     "metadata": {},
     "output_type": "display_data"
    },
    {
     "data": {
      "text/html": [
       "<style type=\"text/css\">\n",
       "#T_6c37d th {\n",
       "  text-align: left;\n",
       "}\n",
       "#T_6c37d_row0_col0, #T_6c37d_row0_col3, #T_6c37d_row1_col0, #T_6c37d_row1_col1, #T_6c37d_row1_col3, #T_6c37d_row1_col4, #T_6c37d_row1_col5, #T_6c37d_row1_col6, #T_6c37d_row1_col7, #T_6c37d_row2_col0, #T_6c37d_row2_col1, #T_6c37d_row2_col4, #T_6c37d_row2_col5, #T_6c37d_row2_col6, #T_6c37d_row2_col7, #T_6c37d_row3_col0, #T_6c37d_row3_col1, #T_6c37d_row3_col3, #T_6c37d_row3_col4, #T_6c37d_row3_col5, #T_6c37d_row3_col6, #T_6c37d_row3_col7, #T_6c37d_row4_col0, #T_6c37d_row4_col1, #T_6c37d_row4_col3, #T_6c37d_row4_col4, #T_6c37d_row4_col5, #T_6c37d_row4_col6, #T_6c37d_row4_col7, #T_6c37d_row5_col0, #T_6c37d_row5_col1, #T_6c37d_row5_col3, #T_6c37d_row5_col4, #T_6c37d_row5_col5, #T_6c37d_row5_col6, #T_6c37d_row5_col7, #T_6c37d_row6_col0, #T_6c37d_row6_col1, #T_6c37d_row6_col3, #T_6c37d_row6_col4, #T_6c37d_row6_col5, #T_6c37d_row6_col6, #T_6c37d_row6_col7, #T_6c37d_row7_col0, #T_6c37d_row7_col1, #T_6c37d_row7_col3, #T_6c37d_row7_col4, #T_6c37d_row7_col5, #T_6c37d_row7_col6, #T_6c37d_row7_col7, #T_6c37d_row8_col0, #T_6c37d_row8_col1, #T_6c37d_row8_col3, #T_6c37d_row8_col4, #T_6c37d_row8_col5, #T_6c37d_row8_col6, #T_6c37d_row8_col7, #T_6c37d_row9_col0, #T_6c37d_row9_col1, #T_6c37d_row9_col3, #T_6c37d_row9_col4, #T_6c37d_row9_col5, #T_6c37d_row9_col6, #T_6c37d_row9_col7, #T_6c37d_row10_col0, #T_6c37d_row10_col1, #T_6c37d_row10_col3, #T_6c37d_row10_col4, #T_6c37d_row10_col5, #T_6c37d_row10_col6, #T_6c37d_row10_col7, #T_6c37d_row11_col0, #T_6c37d_row11_col1, #T_6c37d_row11_col3, #T_6c37d_row11_col4, #T_6c37d_row11_col5, #T_6c37d_row11_col6, #T_6c37d_row11_col7, #T_6c37d_row12_col0, #T_6c37d_row12_col1, #T_6c37d_row12_col3, #T_6c37d_row12_col4, #T_6c37d_row12_col5, #T_6c37d_row12_col6, #T_6c37d_row12_col7, #T_6c37d_row13_col0, #T_6c37d_row13_col1, #T_6c37d_row13_col3, #T_6c37d_row13_col4, #T_6c37d_row13_col5, #T_6c37d_row13_col6, #T_6c37d_row13_col7 {\n",
       "  text-align: left;\n",
       "}\n",
       "#T_6c37d_row0_col1, #T_6c37d_row0_col2, #T_6c37d_row0_col4, #T_6c37d_row0_col5, #T_6c37d_row0_col6, #T_6c37d_row0_col7, #T_6c37d_row1_col2, #T_6c37d_row2_col2, #T_6c37d_row2_col3, #T_6c37d_row3_col2, #T_6c37d_row4_col2, #T_6c37d_row5_col2, #T_6c37d_row6_col2, #T_6c37d_row7_col2, #T_6c37d_row8_col2, #T_6c37d_row9_col2, #T_6c37d_row10_col2, #T_6c37d_row11_col2, #T_6c37d_row12_col2, #T_6c37d_row13_col2 {\n",
       "  text-align: left;\n",
       "  background-color: yellow;\n",
       "}\n",
       "#T_6c37d_row0_col8, #T_6c37d_row1_col8, #T_6c37d_row2_col8, #T_6c37d_row3_col8, #T_6c37d_row4_col8, #T_6c37d_row5_col8, #T_6c37d_row6_col8, #T_6c37d_row8_col8, #T_6c37d_row9_col8, #T_6c37d_row12_col8 {\n",
       "  text-align: left;\n",
       "  background-color: lightgrey;\n",
       "}\n",
       "#T_6c37d_row7_col8, #T_6c37d_row10_col8, #T_6c37d_row11_col8, #T_6c37d_row13_col8 {\n",
       "  text-align: left;\n",
       "  background-color: yellow;\n",
       "  background-color: lightgrey;\n",
       "}\n",
       "</style>\n",
       "<table id=\"T_6c37d\">\n",
       "  <thead>\n",
       "    <tr>\n",
       "      <th class=\"blank level0\" >&nbsp;</th>\n",
       "      <th id=\"T_6c37d_level0_col0\" class=\"col_heading level0 col0\" >Model</th>\n",
       "      <th id=\"T_6c37d_level0_col1\" class=\"col_heading level0 col1\" >Accuracy</th>\n",
       "      <th id=\"T_6c37d_level0_col2\" class=\"col_heading level0 col2\" >AUC</th>\n",
       "      <th id=\"T_6c37d_level0_col3\" class=\"col_heading level0 col3\" >Recall</th>\n",
       "      <th id=\"T_6c37d_level0_col4\" class=\"col_heading level0 col4\" >Prec.</th>\n",
       "      <th id=\"T_6c37d_level0_col5\" class=\"col_heading level0 col5\" >F1</th>\n",
       "      <th id=\"T_6c37d_level0_col6\" class=\"col_heading level0 col6\" >Kappa</th>\n",
       "      <th id=\"T_6c37d_level0_col7\" class=\"col_heading level0 col7\" >MCC</th>\n",
       "      <th id=\"T_6c37d_level0_col8\" class=\"col_heading level0 col8\" >TT (Sec)</th>\n",
       "    </tr>\n",
       "  </thead>\n",
       "  <tbody>\n",
       "    <tr>\n",
       "      <th id=\"T_6c37d_level0_row0\" class=\"row_heading level0 row0\" >rf</th>\n",
       "      <td id=\"T_6c37d_row0_col0\" class=\"data row0 col0\" >Random Forest Classifier</td>\n",
       "      <td id=\"T_6c37d_row0_col1\" class=\"data row0 col1\" >0.9731</td>\n",
       "      <td id=\"T_6c37d_row0_col2\" class=\"data row0 col2\" >0.0000</td>\n",
       "      <td id=\"T_6c37d_row0_col3\" class=\"data row0 col3\" >0.7887</td>\n",
       "      <td id=\"T_6c37d_row0_col4\" class=\"data row0 col4\" >0.9211</td>\n",
       "      <td id=\"T_6c37d_row0_col5\" class=\"data row0 col5\" >0.8493</td>\n",
       "      <td id=\"T_6c37d_row0_col6\" class=\"data row0 col6\" >0.8347</td>\n",
       "      <td id=\"T_6c37d_row0_col7\" class=\"data row0 col7\" >0.8380</td>\n",
       "      <td id=\"T_6c37d_row0_col8\" class=\"data row0 col8\" >0.0330</td>\n",
       "    </tr>\n",
       "    <tr>\n",
       "      <th id=\"T_6c37d_level0_row1\" class=\"row_heading level0 row1\" >gbc</th>\n",
       "      <td id=\"T_6c37d_row1_col0\" class=\"data row1 col0\" >Gradient Boosting Classifier</td>\n",
       "      <td id=\"T_6c37d_row1_col1\" class=\"data row1 col1\" >0.9709</td>\n",
       "      <td id=\"T_6c37d_row1_col2\" class=\"data row1 col2\" >0.0000</td>\n",
       "      <td id=\"T_6c37d_row1_col3\" class=\"data row1 col3\" >0.7737</td>\n",
       "      <td id=\"T_6c37d_row1_col4\" class=\"data row1 col4\" >0.9115</td>\n",
       "      <td id=\"T_6c37d_row1_col5\" class=\"data row1 col5\" >0.8347</td>\n",
       "      <td id=\"T_6c37d_row1_col6\" class=\"data row1 col6\" >0.8189</td>\n",
       "      <td id=\"T_6c37d_row1_col7\" class=\"data row1 col7\" >0.8235</td>\n",
       "      <td id=\"T_6c37d_row1_col8\" class=\"data row1 col8\" >0.0260</td>\n",
       "    </tr>\n",
       "    <tr>\n",
       "      <th id=\"T_6c37d_level0_row2\" class=\"row_heading level0 row2\" >lightgbm</th>\n",
       "      <td id=\"T_6c37d_row2_col0\" class=\"data row2 col0\" >Light Gradient Boosting Machine</td>\n",
       "      <td id=\"T_6c37d_row2_col1\" class=\"data row2 col1\" >0.9706</td>\n",
       "      <td id=\"T_6c37d_row2_col2\" class=\"data row2 col2\" >0.0000</td>\n",
       "      <td id=\"T_6c37d_row2_col3\" class=\"data row2 col3\" >0.7977</td>\n",
       "      <td id=\"T_6c37d_row2_col4\" class=\"data row2 col4\" >0.8851</td>\n",
       "      <td id=\"T_6c37d_row2_col5\" class=\"data row2 col5\" >0.8383</td>\n",
       "      <td id=\"T_6c37d_row2_col6\" class=\"data row2 col6\" >0.8222</td>\n",
       "      <td id=\"T_6c37d_row2_col7\" class=\"data row2 col7\" >0.8240</td>\n",
       "      <td id=\"T_6c37d_row2_col8\" class=\"data row2 col8\" >0.4270</td>\n",
       "    </tr>\n",
       "    <tr>\n",
       "      <th id=\"T_6c37d_level0_row3\" class=\"row_heading level0 row3\" >et</th>\n",
       "      <td id=\"T_6c37d_row3_col0\" class=\"data row3 col0\" >Extra Trees Classifier</td>\n",
       "      <td id=\"T_6c37d_row3_col1\" class=\"data row3 col1\" >0.9694</td>\n",
       "      <td id=\"T_6c37d_row3_col2\" class=\"data row3 col2\" >0.0000</td>\n",
       "      <td id=\"T_6c37d_row3_col3\" class=\"data row3 col3\" >0.7648</td>\n",
       "      <td id=\"T_6c37d_row3_col4\" class=\"data row3 col4\" >0.9018</td>\n",
       "      <td id=\"T_6c37d_row3_col5\" class=\"data row3 col5\" >0.8269</td>\n",
       "      <td id=\"T_6c37d_row3_col6\" class=\"data row3 col6\" >0.8103</td>\n",
       "      <td id=\"T_6c37d_row3_col7\" class=\"data row3 col7\" >0.8140</td>\n",
       "      <td id=\"T_6c37d_row3_col8\" class=\"data row3 col8\" >0.0240</td>\n",
       "    </tr>\n",
       "    <tr>\n",
       "      <th id=\"T_6c37d_level0_row4\" class=\"row_heading level0 row4\" >dt</th>\n",
       "      <td id=\"T_6c37d_row4_col0\" class=\"data row4 col0\" >Decision Tree Classifier</td>\n",
       "      <td id=\"T_6c37d_row4_col1\" class=\"data row4 col1\" >0.9606</td>\n",
       "      <td id=\"T_6c37d_row4_col2\" class=\"data row4 col2\" >0.0000</td>\n",
       "      <td id=\"T_6c37d_row4_col3\" class=\"data row4 col3\" >0.7708</td>\n",
       "      <td id=\"T_6c37d_row4_col4\" class=\"data row4 col4\" >0.8120</td>\n",
       "      <td id=\"T_6c37d_row4_col5\" class=\"data row4 col5\" >0.7886</td>\n",
       "      <td id=\"T_6c37d_row4_col6\" class=\"data row4 col6\" >0.7669</td>\n",
       "      <td id=\"T_6c37d_row4_col7\" class=\"data row4 col7\" >0.7686</td>\n",
       "      <td id=\"T_6c37d_row4_col8\" class=\"data row4 col8\" >0.0090</td>\n",
       "    </tr>\n",
       "    <tr>\n",
       "      <th id=\"T_6c37d_level0_row5\" class=\"row_heading level0 row5\" >ada</th>\n",
       "      <td id=\"T_6c37d_row5_col0\" class=\"data row5 col0\" >Ada Boost Classifier</td>\n",
       "      <td id=\"T_6c37d_row5_col1\" class=\"data row5 col1\" >0.9586</td>\n",
       "      <td id=\"T_6c37d_row5_col2\" class=\"data row5 col2\" >0.0000</td>\n",
       "      <td id=\"T_6c37d_row5_col3\" class=\"data row5 col3\" >0.6990</td>\n",
       "      <td id=\"T_6c37d_row5_col4\" class=\"data row5 col4\" >0.8410</td>\n",
       "      <td id=\"T_6c37d_row5_col5\" class=\"data row5 col5\" >0.7607</td>\n",
       "      <td id=\"T_6c37d_row5_col6\" class=\"data row5 col6\" >0.7383</td>\n",
       "      <td id=\"T_6c37d_row5_col7\" class=\"data row5 col7\" >0.7437</td>\n",
       "      <td id=\"T_6c37d_row5_col8\" class=\"data row5 col8\" >0.0180</td>\n",
       "    </tr>\n",
       "    <tr>\n",
       "      <th id=\"T_6c37d_level0_row6\" class=\"row_heading level0 row6\" >lr</th>\n",
       "      <td id=\"T_6c37d_row6_col0\" class=\"data row6 col0\" >Logistic Regression</td>\n",
       "      <td id=\"T_6c37d_row6_col1\" class=\"data row6 col1\" >0.9557</td>\n",
       "      <td id=\"T_6c37d_row6_col2\" class=\"data row6 col2\" >0.0000</td>\n",
       "      <td id=\"T_6c37d_row6_col3\" class=\"data row6 col3\" >0.6278</td>\n",
       "      <td id=\"T_6c37d_row6_col4\" class=\"data row6 col4\" >0.8774</td>\n",
       "      <td id=\"T_6c37d_row6_col5\" class=\"data row6 col5\" >0.7291</td>\n",
       "      <td id=\"T_6c37d_row6_col6\" class=\"data row6 col6\" >0.7059</td>\n",
       "      <td id=\"T_6c37d_row6_col7\" class=\"data row6 col7\" >0.7191</td>\n",
       "      <td id=\"T_6c37d_row6_col8\" class=\"data row6 col8\" >0.1860</td>\n",
       "    </tr>\n",
       "    <tr>\n",
       "      <th id=\"T_6c37d_level0_row7\" class=\"row_heading level0 row7\" >lda</th>\n",
       "      <td id=\"T_6c37d_row7_col0\" class=\"data row7 col0\" >Linear Discriminant Analysis</td>\n",
       "      <td id=\"T_6c37d_row7_col1\" class=\"data row7 col1\" >0.9380</td>\n",
       "      <td id=\"T_6c37d_row7_col2\" class=\"data row7 col2\" >0.0000</td>\n",
       "      <td id=\"T_6c37d_row7_col3\" class=\"data row7 col3\" >0.5771</td>\n",
       "      <td id=\"T_6c37d_row7_col4\" class=\"data row7 col4\" >0.7234</td>\n",
       "      <td id=\"T_6c37d_row7_col5\" class=\"data row7 col5\" >0.6402</td>\n",
       "      <td id=\"T_6c37d_row7_col6\" class=\"data row7 col6\" >0.6068</td>\n",
       "      <td id=\"T_6c37d_row7_col7\" class=\"data row7 col7\" >0.6125</td>\n",
       "      <td id=\"T_6c37d_row7_col8\" class=\"data row7 col8\" >0.0080</td>\n",
       "    </tr>\n",
       "    <tr>\n",
       "      <th id=\"T_6c37d_level0_row8\" class=\"row_heading level0 row8\" >ridge</th>\n",
       "      <td id=\"T_6c37d_row8_col0\" class=\"data row8 col0\" >Ridge Classifier</td>\n",
       "      <td id=\"T_6c37d_row8_col1\" class=\"data row8 col1\" >0.9334</td>\n",
       "      <td id=\"T_6c37d_row8_col2\" class=\"data row8 col2\" >0.0000</td>\n",
       "      <td id=\"T_6c37d_row8_col3\" class=\"data row8 col3\" >0.3389</td>\n",
       "      <td id=\"T_6c37d_row8_col4\" class=\"data row8 col4\" >0.9115</td>\n",
       "      <td id=\"T_6c37d_row8_col5\" class=\"data row8 col5\" >0.4907</td>\n",
       "      <td id=\"T_6c37d_row8_col6\" class=\"data row8 col6\" >0.4634</td>\n",
       "      <td id=\"T_6c37d_row8_col7\" class=\"data row8 col7\" >0.5305</td>\n",
       "      <td id=\"T_6c37d_row8_col8\" class=\"data row8 col8\" >0.0100</td>\n",
       "    </tr>\n",
       "    <tr>\n",
       "      <th id=\"T_6c37d_level0_row9\" class=\"row_heading level0 row9\" >knn</th>\n",
       "      <td id=\"T_6c37d_row9_col0\" class=\"data row9 col0\" >K Neighbors Classifier</td>\n",
       "      <td id=\"T_6c37d_row9_col1\" class=\"data row9 col1\" >0.9189</td>\n",
       "      <td id=\"T_6c37d_row9_col2\" class=\"data row9 col2\" >0.0000</td>\n",
       "      <td id=\"T_6c37d_row9_col3\" class=\"data row9 col3\" >0.3833</td>\n",
       "      <td id=\"T_6c37d_row9_col4\" class=\"data row9 col4\" >0.6273</td>\n",
       "      <td id=\"T_6c37d_row9_col5\" class=\"data row9 col5\" >0.4732</td>\n",
       "      <td id=\"T_6c37d_row9_col6\" class=\"data row9 col6\" >0.4323</td>\n",
       "      <td id=\"T_6c37d_row9_col7\" class=\"data row9 col7\" >0.4490</td>\n",
       "      <td id=\"T_6c37d_row9_col8\" class=\"data row9 col8\" >0.0130</td>\n",
       "    </tr>\n",
       "    <tr>\n",
       "      <th id=\"T_6c37d_level0_row10\" class=\"row_heading level0 row10\" >dummy</th>\n",
       "      <td id=\"T_6c37d_row10_col0\" class=\"data row10 col0\" >Dummy Classifier</td>\n",
       "      <td id=\"T_6c37d_row10_col1\" class=\"data row10 col1\" >0.9040</td>\n",
       "      <td id=\"T_6c37d_row10_col2\" class=\"data row10 col2\" >0.0000</td>\n",
       "      <td id=\"T_6c37d_row10_col3\" class=\"data row10 col3\" >0.0000</td>\n",
       "      <td id=\"T_6c37d_row10_col4\" class=\"data row10 col4\" >0.0000</td>\n",
       "      <td id=\"T_6c37d_row10_col5\" class=\"data row10 col5\" >0.0000</td>\n",
       "      <td id=\"T_6c37d_row10_col6\" class=\"data row10 col6\" >0.0000</td>\n",
       "      <td id=\"T_6c37d_row10_col7\" class=\"data row10 col7\" >0.0000</td>\n",
       "      <td id=\"T_6c37d_row10_col8\" class=\"data row10 col8\" >0.0080</td>\n",
       "    </tr>\n",
       "    <tr>\n",
       "      <th id=\"T_6c37d_level0_row11\" class=\"row_heading level0 row11\" >nb</th>\n",
       "      <td id=\"T_6c37d_row11_col0\" class=\"data row11 col0\" >Naive Bayes</td>\n",
       "      <td id=\"T_6c37d_row11_col1\" class=\"data row11 col1\" >0.8931</td>\n",
       "      <td id=\"T_6c37d_row11_col2\" class=\"data row11 col2\" >0.0000</td>\n",
       "      <td id=\"T_6c37d_row11_col3\" class=\"data row11 col3\" >0.6069</td>\n",
       "      <td id=\"T_6c37d_row11_col4\" class=\"data row11 col4\" >0.4599</td>\n",
       "      <td id=\"T_6c37d_row11_col5\" class=\"data row11 col5\" >0.5216</td>\n",
       "      <td id=\"T_6c37d_row11_col6\" class=\"data row11 col6\" >0.4630</td>\n",
       "      <td id=\"T_6c37d_row11_col7\" class=\"data row11 col7\" >0.4696</td>\n",
       "      <td id=\"T_6c37d_row11_col8\" class=\"data row11 col8\" >0.0080</td>\n",
       "    </tr>\n",
       "    <tr>\n",
       "      <th id=\"T_6c37d_level0_row12\" class=\"row_heading level0 row12\" >svm</th>\n",
       "      <td id=\"T_6c37d_row12_col0\" class=\"data row12 col0\" >SVM - Linear Kernel</td>\n",
       "      <td id=\"T_6c37d_row12_col1\" class=\"data row12 col1\" >0.8826</td>\n",
       "      <td id=\"T_6c37d_row12_col2\" class=\"data row12 col2\" >0.0000</td>\n",
       "      <td id=\"T_6c37d_row12_col3\" class=\"data row12 col3\" >0.4096</td>\n",
       "      <td id=\"T_6c37d_row12_col4\" class=\"data row12 col4\" >0.4251</td>\n",
       "      <td id=\"T_6c37d_row12_col5\" class=\"data row12 col5\" >0.3360</td>\n",
       "      <td id=\"T_6c37d_row12_col6\" class=\"data row12 col6\" >0.2914</td>\n",
       "      <td id=\"T_6c37d_row12_col7\" class=\"data row12 col7\" >0.3296</td>\n",
       "      <td id=\"T_6c37d_row12_col8\" class=\"data row12 col8\" >0.0090</td>\n",
       "    </tr>\n",
       "    <tr>\n",
       "      <th id=\"T_6c37d_level0_row13\" class=\"row_heading level0 row13\" >qda</th>\n",
       "      <td id=\"T_6c37d_row13_col0\" class=\"data row13 col0\" >Quadratic Discriminant Analysis</td>\n",
       "      <td id=\"T_6c37d_row13_col1\" class=\"data row13 col1\" >0.8029</td>\n",
       "      <td id=\"T_6c37d_row13_col2\" class=\"data row13 col2\" >0.0000</td>\n",
       "      <td id=\"T_6c37d_row13_col3\" class=\"data row13 col3\" >0.6025</td>\n",
       "      <td id=\"T_6c37d_row13_col4\" class=\"data row13 col4\" >0.3855</td>\n",
       "      <td id=\"T_6c37d_row13_col5\" class=\"data row13 col5\" >0.4299</td>\n",
       "      <td id=\"T_6c37d_row13_col6\" class=\"data row13 col6\" >0.3595</td>\n",
       "      <td id=\"T_6c37d_row13_col7\" class=\"data row13 col7\" >0.3732</td>\n",
       "      <td id=\"T_6c37d_row13_col8\" class=\"data row13 col8\" >0.0080</td>\n",
       "    </tr>\n",
       "  </tbody>\n",
       "</table>\n"
      ],
      "text/plain": [
       "<pandas.io.formats.style.Styler at 0x2944ff0d0>"
      ]
     },
     "metadata": {},
     "output_type": "display_data"
    },
    {
     "data": {
      "text/html": [],
      "text/plain": [
       "<IPython.core.display.HTML object>"
      ]
     },
     "metadata": {},
     "output_type": "display_data"
    }
   ],
   "source": [
    "best = compare_models()"
   ]
  },
  {
   "cell_type": "code",
   "execution_count": 12,
   "metadata": {},
   "outputs": [
    {
     "data": {
      "application/vnd.jupyter.widget-view+json": {
       "model_id": "342245ae0e464493825e409f7a39abb3",
       "version_major": 2,
       "version_minor": 0
      },
      "text/plain": [
       "interactive(children=(ToggleButtons(description='Plot Type:', icons=('',), options=(('Pipeline Plot', 'pipelin…"
      ]
     },
     "metadata": {},
     "output_type": "display_data"
    }
   ],
   "source": [
    "# functional API\n",
    "evaluate_model(best)"
   ]
  },
  {
   "cell_type": "code",
   "execution_count": 13,
   "metadata": {},
   "outputs": [
    {
     "data": {
      "text/html": [],
      "text/plain": [
       "<IPython.core.display.HTML object>"
      ]
     },
     "metadata": {},
     "output_type": "display_data"
    },
    {
     "data": {
      "image/png": "[encoded data removed]",
      "text/plain": [
       "<Figure size 800x550 with 1 Axes>"
      ]
     },
     "metadata": {},
     "output_type": "display_data"
    }
   ],
   "source": [
    "# functional API\n",
    "plot_model(best, plot = 'auc')"
   ]
  },
  {
   "cell_type": "code",
   "execution_count": 14,
   "metadata": {},
   "outputs": [
    {
     "data": {
      "text/html": [],
      "text/plain": [
       "<IPython.core.display.HTML object>"
      ]
     },
     "metadata": {},
     "output_type": "display_data"
    },
    {
     "data": {
      "image/png": "[encoded data removed]",
      "text/plain": [
       "<Figure size 800x550 with 1 Axes>"
      ]
     },
     "metadata": {},
     "output_type": "display_data"
    }
   ],
   "source": [
    "# functional API\n",
    "plot_model(best, plot = 'confusion_matrix')"
   ]
  },
  {
   "cell_type": "code",
   "execution_count": 15,
   "metadata": {},
   "outputs": [
    {
     "data": {
      "text/html": [
       "<style type=\"text/css\">\n",
       "</style>\n",
       "<table id=\"T_2f804\">\n",
       "  <thead>\n",
       "    <tr>\n",
       "      <th class=\"blank level0\" >&nbsp;</th>\n",
       "      <th id=\"T_2f804_level0_col0\" class=\"col_heading level0 col0\" >Model</th>\n",
       "      <th id=\"T_2f804_level0_col1\" class=\"col_heading level0 col1\" >Accuracy</th>\n",
       "      <th id=\"T_2f804_level0_col2\" class=\"col_heading level0 col2\" >AUC</th>\n",
       "      <th id=\"T_2f804_level0_col3\" class=\"col_heading level0 col3\" >Recall</th>\n",
       "      <th id=\"T_2f804_level0_col4\" class=\"col_heading level0 col4\" >Prec.</th>\n",
       "      <th id=\"T_2f804_level0_col5\" class=\"col_heading level0 col5\" >F1</th>\n",
       "      <th id=\"T_2f804_level0_col6\" class=\"col_heading level0 col6\" >Kappa</th>\n",
       "      <th id=\"T_2f804_level0_col7\" class=\"col_heading level0 col7\" >MCC</th>\n",
       "    </tr>\n",
       "  </thead>\n",
       "  <tbody>\n",
       "    <tr>\n",
       "      <th id=\"T_2f804_level0_row0\" class=\"row_heading level0 row0\" >0</th>\n",
       "      <td id=\"T_2f804_row0_col0\" class=\"data row0 col0\" >Random Forest Classifier</td>\n",
       "      <td id=\"T_2f804_row0_col1\" class=\"data row0 col1\" >0.9904</td>\n",
       "      <td id=\"T_2f804_row0_col2\" class=\"data row0 col2\" >0.9896</td>\n",
       "      <td id=\"T_2f804_row0_col3\" class=\"data row0 col3\" >0.9354</td>\n",
       "      <td id=\"T_2f804_row0_col4\" class=\"data row0 col4\" >0.9635</td>\n",
       "      <td id=\"T_2f804_row0_col5\" class=\"data row0 col5\" >0.9493</td>\n",
       "      <td id=\"T_2f804_row0_col6\" class=\"data row0 col6\" >0.9440</td>\n",
       "      <td id=\"T_2f804_row0_col7\" class=\"data row0 col7\" >0.9441</td>\n",
       "    </tr>\n",
       "  </tbody>\n",
       "</table>\n"
      ],
      "text/plain": [
       "<pandas.io.formats.style.Styler at 0x294456fd0>"
      ]
     },
     "metadata": {},
     "output_type": "display_data"
    },
    {
     "data": {
      "text/html": [
       "<div>\n",
       "<style scoped>\n",
       "    .dataframe tbody tr th:only-of-type {\n",
       "        vertical-align: middle;\n",
       "    }\n",
       "\n",
       "    .dataframe tbody tr th {\n",
       "        vertical-align: top;\n",
       "    }\n",
       "\n",
       "    .dataframe thead th {\n",
       "        text-align: right;\n",
       "    }\n",
       "</style>\n",
       "<table border=\"1\" class=\"dataframe\">\n",
       "  <thead>\n",
       "    <tr style=\"text-align: right;\">\n",
       "      <th></th>\n",
       "      <th>ID</th>\n",
       "      <th>Age</th>\n",
       "      <th>Experience</th>\n",
       "      <th>Income</th>\n",
       "      <th>ZIP.Code</th>\n",
       "      <th>Family</th>\n",
       "      <th>CCAvg</th>\n",
       "      <th>Education</th>\n",
       "      <th>Mortgage</th>\n",
       "      <th>Securities.Account</th>\n",
       "      <th>CD.Account</th>\n",
       "      <th>Online</th>\n",
       "      <th>CreditCard</th>\n",
       "      <th>Personal.Loan</th>\n",
       "      <th>prediction_label</th>\n",
       "      <th>prediction_score</th>\n",
       "    </tr>\n",
       "  </thead>\n",
       "  <tbody>\n",
       "    <tr>\n",
       "      <th>0</th>\n",
       "      <td>1</td>\n",
       "      <td>25</td>\n",
       "      <td>1</td>\n",
       "      <td>49</td>\n",
       "      <td>91107</td>\n",
       "      <td>4</td>\n",
       "      <td>1.6</td>\n",
       "      <td>1</td>\n",
       "      <td>0</td>\n",
       "      <td>1</td>\n",
       "      <td>0</td>\n",
       "      <td>0</td>\n",
       "      <td>0</td>\n",
       "      <td>0</td>\n",
       "      <td>0</td>\n",
       "      <td>1.0</td>\n",
       "    </tr>\n",
       "    <tr>\n",
       "      <th>1</th>\n",
       "      <td>2</td>\n",
       "      <td>45</td>\n",
       "      <td>19</td>\n",
       "      <td>34</td>\n",
       "      <td>90089</td>\n",
       "      <td>3</td>\n",
       "      <td>1.5</td>\n",
       "      <td>1</td>\n",
       "      <td>0</td>\n",
       "      <td>1</td>\n",
       "      <td>0</td>\n",
       "      <td>0</td>\n",
       "      <td>0</td>\n",
       "      <td>0</td>\n",
       "      <td>0</td>\n",
       "      <td>1.0</td>\n",
       "    </tr>\n",
       "    <tr>\n",
       "      <th>2</th>\n",
       "      <td>3</td>\n",
       "      <td>39</td>\n",
       "      <td>15</td>\n",
       "      <td>11</td>\n",
       "      <td>94720</td>\n",
       "      <td>1</td>\n",
       "      <td>1.0</td>\n",
       "      <td>1</td>\n",
       "      <td>0</td>\n",
       "      <td>0</td>\n",
       "      <td>0</td>\n",
       "      <td>0</td>\n",
       "      <td>0</td>\n",
       "      <td>0</td>\n",
       "      <td>0</td>\n",
       "      <td>1.0</td>\n",
       "    </tr>\n",
       "    <tr>\n",
       "      <th>3</th>\n",
       "      <td>4</td>\n",
       "      <td>35</td>\n",
       "      <td>9</td>\n",
       "      <td>100</td>\n",
       "      <td>94112</td>\n",
       "      <td>1</td>\n",
       "      <td>2.7</td>\n",
       "      <td>2</td>\n",
       "      <td>0</td>\n",
       "      <td>0</td>\n",
       "      <td>0</td>\n",
       "      <td>0</td>\n",
       "      <td>0</td>\n",
       "      <td>0</td>\n",
       "      <td>0</td>\n",
       "      <td>1.0</td>\n",
       "    </tr>\n",
       "    <tr>\n",
       "      <th>4</th>\n",
       "      <td>5</td>\n",
       "      <td>35</td>\n",
       "      <td>8</td>\n",
       "      <td>45</td>\n",
       "      <td>91330</td>\n",
       "      <td>4</td>\n",
       "      <td>1.0</td>\n",
       "      <td>2</td>\n",
       "      <td>0</td>\n",
       "      <td>0</td>\n",
       "      <td>0</td>\n",
       "      <td>0</td>\n",
       "      <td>1</td>\n",
       "      <td>0</td>\n",
       "      <td>0</td>\n",
       "      <td>1.0</td>\n",
       "    </tr>\n",
       "  </tbody>\n",
       "</table>\n",
       "</div>"
      ],
      "text/plain": [
       "   ID  Age  Experience  Income  ZIP.Code  Family  CCAvg  Education  Mortgage  \\\n",
       "0   1   25           1      49     91107       4    1.6          1         0   \n",
       "1   2   45          19      34     90089       3    1.5          1         0   \n",
       "2   3   39          15      11     94720       1    1.0          1         0   \n",
       "3   4   35           9     100     94112       1    2.7          2         0   \n",
       "4   5   35           8      45     91330       4    1.0          2         0   \n",
       "\n",
       "   Securities.Account  CD.Account  Online  CreditCard  Personal.Loan  \\\n",
       "0                   1           0       0           0              0   \n",
       "1                   1           0       0           0              0   \n",
       "2                   0           0       0           0              0   \n",
       "3                   0           0       0           0              0   \n",
       "4                   0           0       0           1              0   \n",
       "\n",
       "   prediction_label  prediction_score  \n",
       "0                 0               1.0  \n",
       "1                 0               1.0  \n",
       "2                 0               1.0  \n",
       "3                 0               1.0  \n",
       "4                 0               1.0  "
      ]
     },
     "execution_count": 15,
     "metadata": {},
     "output_type": "execute_result"
    }
   ],
   "source": [
    "# functional API\n",
    "predictions = predict_model(best, data=df)\n",
    "predictions.head()"
   ]
  },
  {
   "cell_type": "code",
   "execution_count": 16,
   "metadata": {},
   "outputs": [
    {
     "name": "stdout",
     "output_type": "stream",
     "text": [
      "Transformation Pipeline and Model Successfully Saved\n"
     ]
    },
    {
     "data": {
      "text/plain": [
       "(Pipeline(memory=Memory(location=None),\n",
       "          steps=[('numerical_imputer',\n",
       "                  TransformerWrapper(exclude=None,\n",
       "                                     include=['Income', 'CCAvg', 'Mortgage'],\n",
       "                                     transformer=SimpleImputer(add_indicator=False,\n",
       "                                                               copy=True,\n",
       "                                                               fill_value=None,\n",
       "                                                               keep_empty_features=False,\n",
       "                                                               missing_values=nan,\n",
       "                                                               strategy='mean'))),\n",
       "                 ('categorical_imputer',\n",
       "                  TransformerWrapper(exclude=None,\n",
       "                                     include=['Education', 'C...\n",
       "                  RandomForestClassifier(bootstrap=True, ccp_alpha=0.0,\n",
       "                                         class_weight=None, criterion='gini',\n",
       "                                         max_depth=None, max_features='sqrt',\n",
       "                                         max_leaf_nodes=None, max_samples=None,\n",
       "                                         min_impurity_decrease=0.0,\n",
       "                                         min_samples_leaf=1, min_samples_split=2,\n",
       "                                         min_weight_fraction_leaf=0.0,\n",
       "                                         monotonic_cst=None, n_estimators=100,\n",
       "                                         n_jobs=-1, oob_score=False,\n",
       "                                         random_state=123, verbose=0,\n",
       "                                         warm_start=False))],\n",
       "          verbose=False),\n",
       " 'RandomForestClassifier.pkl')"
      ]
     },
     "execution_count": 16,
     "metadata": {},
     "output_type": "execute_result"
    }
   ],
   "source": [
    "save_model(best, 'RandomForestClassifier')"
   ]
  },
  {
   "cell_type": "code",
   "execution_count": null,
   "metadata": {},
   "outputs": [],
   "source": []
  },
  {
   "cell_type": "code",
   "execution_count": null,
   "metadata": {},
   "outputs": [],
   "source": []
  }
 ],
 "metadata": {
  "kernelspec": {
   "display_name": "proyectoetica",
   "language": "python",
   "name": "python3"
  },
  "language_info": {
   "codemirror_mode": {
    "name": "ipython",
    "version": 3
   },
   "file_extension": ".py",
   "mimetype": "text/x-python",
   "name": "python",
   "nbconvert_exporter": "python",
   "pygments_lexer": "ipython3",
   "version": "3.9.19"
  }
 },
 "nbformat": 4,
 "nbformat_minor": 2
}
