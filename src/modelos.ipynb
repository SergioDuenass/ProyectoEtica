{
 "cells": [
  {
   "cell_type": "code",
   "execution_count": null,
   "metadata": {},
   "outputs": [],
   "source": [
    "import pandas as pd"
   ]
  },
  {
   "cell_type": "code",
   "execution_count": null,
   "metadata": {},
   "outputs": [],
   "source": [
    "df = pd.read_csv(\"../bankloan.csv\")\n",
    "df['Experience'] = abs(df['Experience'])"
   ]
  },
  {
   "cell_type": "markdown",
   "metadata": {},
   "source": [
    "### Usamos SelectKBest para poder ver cuales son las variables que más nos convienen a nuestra variable target"
   ]
  },
  {
   "cell_type": "code",
   "execution_count": null,
   "metadata": {},
   "outputs": [],
   "source": [
    "from sklearn.feature_selection import SelectKBest, f_regression"
   ]
  },
  {
   "cell_type": "code",
   "execution_count": null,
   "metadata": {},
   "outputs": [],
   "source": [
    "\n",
    "# Definir X como una serie (una sola columna)\n",
    "X = df.drop(columns=['Personal.Loan'])\n",
    "\n",
    "# Definir y como un DataFrame que excluye la columna 'Personal.Loan'\n",
    "y = df[\"Personal.Loan\"]\n",
    "\n",
    "# Usamos la libreria proporciada para seleccionar las mejores variables\n",
    "selecKBest = SelectKBest(score_func=f_regression, k=5) \n",
    "selecKBest.fit(X, y)\n",
    "\n",
    "# Obtener las características seleccionadas\n",
    "variables = X.columns[selecKBest.get_support()]\n",
    "\n",
    "variables\n"
   ]
  },
  {
   "cell_type": "markdown",
   "metadata": {},
   "source": [
    "### Ahora para poder correr varios modelos y ahorrarnos tiempo usaremos pycaret"
   ]
  },
  {
   "cell_type": "code",
   "execution_count": null,
   "metadata": {},
   "outputs": [],
   "source": [
    "from pycaret.classification import *"
   ]
  },
  {
   "cell_type": "code",
   "execution_count": null,
   "metadata": {},
   "outputs": [],
   "source": [
    "# Definir las características numéricas y categóricas\n",
    "numeric_features = ['Income', 'CCAvg', 'Mortgage']\n",
    "categorical_features = ['Education', 'CD.Account']\n",
    "\n",
    "# Configurar el entorno de experimentación\n",
    "s = setup(data=df[['Income', 'CCAvg', 'Education', 'Mortgage', 'CD.Account', 'Personal.Loan']], \n",
    "          target='Personal.Loan', \n",
    "          session_id=123,\n",
    "          numeric_features=numeric_features,\n",
    "          categorical_features=categorical_features)"
   ]
  },
  {
   "cell_type": "code",
   "execution_count": null,
   "metadata": {},
   "outputs": [],
   "source": [
    "best = compare_models()"
   ]
  },
  {
   "cell_type": "code",
   "execution_count": null,
   "metadata": {},
   "outputs": [],
   "source": [
    "# functional API\n",
    "evaluate_model(best)"
   ]
  },
  {
   "cell_type": "code",
   "execution_count": null,
   "metadata": {},
   "outputs": [],
   "source": [
    "# functional API\n",
    "plot_model(best, plot = 'auc')"
   ]
  },
  {
   "cell_type": "code",
   "execution_count": null,
   "metadata": {},
   "outputs": [],
   "source": [
    "# functional API\n",
    "plot_model(best, plot = 'confusion_matrix')"
   ]
  },
  {
   "cell_type": "code",
   "execution_count": null,
   "metadata": {},
   "outputs": [],
   "source": [
    "# functional API\n",
    "predictions = predict_model(best, data=df)\n",
    "predictions.head()"
   ]
  },
  {
   "cell_type": "code",
   "execution_count": null,
   "metadata": {},
   "outputs": [],
   "source": [
    "save_model(best, 'RandomForestClassifier')"
   ]
  },
  {
   "cell_type": "code",
   "execution_count": null,
   "metadata": {},
   "outputs": [],
   "source": []
  },
  {
   "cell_type": "code",
   "execution_count": null,
   "metadata": {},
   "outputs": [],
   "source": []
  }
 ],
 "metadata": {
  "language_info": {
   "name": "python"
  }
 },
 "nbformat": 4,
 "nbformat_minor": 2
}
