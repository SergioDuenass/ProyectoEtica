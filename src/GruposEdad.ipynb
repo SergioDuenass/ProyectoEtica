{
 "cells": [
  {
   "cell_type": "code",
   "execution_count": 20,
   "metadata": {},
   "outputs": [],
   "source": [
    "# Librerias a utilizar\n",
    "import pickle\n",
    "import pandas as pd\n",
    "from sklearn.model_selection import train_test_split\n",
    "from sklearn.metrics import classification_report, confusion_matrix\n",
    "import joblib"
   ]
  },
  {
   "cell_type": "code",
   "execution_count": 4,
   "metadata": {},
   "outputs": [],
   "source": [
    "df = pd.read_csv(\"../data/bankloan.csv\")\n",
    "df['Experience'] = abs(df['Experience'])"
   ]
  },
  {
   "cell_type": "code",
   "execution_count": 5,
   "metadata": {},
   "outputs": [],
   "source": [
    "# Cargar el modelo desde el archivo .pkl\n",
    "with open('RandomForestClassifier.pkl', 'rb') as archivo:\n",
    "    modelo = pickle.load(archivo)\n"
   ]
  },
  {
   "cell_type": "markdown",
   "metadata": {},
   "source": [
    "Ahora lo usaremos el modelo para analizar los distintos grupos y como es que el modelo se comporta con dichos."
   ]
  },
  {
   "cell_type": "code",
   "execution_count": 9,
   "metadata": {},
   "outputs": [
    {
     "data": {
      "text/plain": [
       "count    5000.000000\n",
       "mean       45.338400\n",
       "std        11.463166\n",
       "min        23.000000\n",
       "25%        35.000000\n",
       "50%        45.000000\n",
       "75%        55.000000\n",
       "max        67.000000\n",
       "Name: Age, dtype: float64"
      ]
     },
     "execution_count": 9,
     "metadata": {},
     "output_type": "execute_result"
    }
   ],
   "source": [
    "df[\"Age\"].describe()"
   ]
  },
  {
   "cell_type": "code",
   "execution_count": 10,
   "metadata": {},
   "outputs": [
    {
     "name": "stdout",
     "output_type": "stream",
     "text": [
      "Rango de Edad\n",
      "21-30     488\n",
      "31-40    1247\n",
      "41-50    1257\n",
      "51-60    1334\n",
      "61+       674\n",
      "dtype: int64\n"
     ]
    }
   ],
   "source": [
    "# Definir los límites de los rangos de edad\n",
    "bins = [20, 30, 40, 50, 60, float('inf')]  # Rangos de edad: 0-20, 21-30, 31-40, 41-50, 51-60, 60+\n",
    "\n",
    "# Definir los nombres de las categorías\n",
    "labels = ['21-30', '31-40', '41-50', '51-60', '61+']\n",
    "\n",
    "# Crear una nueva columna en el DataFrame que contenga los rangos de edad\n",
    "df['Rango de Edad'] = pd.cut(df['Age'], bins=bins, labels=labels, right=False)\n",
    "\n",
    "# Agrupar los datos por los rangos de edad\n",
    "grupo_por_edad = df.groupby('Rango de Edad').size()\n",
    "\n",
    "print(grupo_por_edad)"
   ]
  },
  {
   "cell_type": "code",
   "execution_count": 23,
   "metadata": {},
   "outputs": [
    {
     "name": "stdout",
     "output_type": "stream",
     "text": [
      "Rango de Edad: 21-30\n",
      "Reporte de clasificación:\n",
      "              precision    recall  f1-score   support\n",
      "\n",
      "           0       0.99      1.00      0.99        88\n",
      "           1       1.00      0.90      0.95        10\n",
      "\n",
      "    accuracy                           0.99        98\n",
      "   macro avg       0.99      0.95      0.97        98\n",
      "weighted avg       0.99      0.99      0.99        98\n",
      "\n",
      "Matriz de confusión:\n",
      "[[88  0]\n",
      " [ 1  9]]\n",
      "\n",
      "\n",
      "Rango de Edad: 31-40\n",
      "Reporte de clasificación:\n",
      "              precision    recall  f1-score   support\n",
      "\n",
      "           0       0.99      1.00      1.00       224\n",
      "           1       1.00      0.92      0.96        26\n",
      "\n",
      "    accuracy                           0.99       250\n",
      "   macro avg       1.00      0.96      0.98       250\n",
      "weighted avg       0.99      0.99      0.99       250\n",
      "\n",
      "Matriz de confusión:\n",
      "[[224   0]\n",
      " [  2  24]]\n",
      "\n",
      "\n",
      "Rango de Edad: 41-50\n",
      "Reporte de clasificación:\n",
      "              precision    recall  f1-score   support\n",
      "\n",
      "           0       0.99      1.00      1.00       240\n",
      "           1       1.00      0.83      0.91        12\n",
      "\n",
      "    accuracy                           0.99       252\n",
      "   macro avg       1.00      0.92      0.95       252\n",
      "weighted avg       0.99      0.99      0.99       252\n",
      "\n",
      "Matriz de confusión:\n",
      "[[240   0]\n",
      " [  2  10]]\n",
      "\n",
      "\n",
      "Rango de Edad: 51-60\n",
      "Reporte de clasificación:\n",
      "              precision    recall  f1-score   support\n",
      "\n",
      "           0       1.00      0.99      1.00       246\n",
      "           1       0.91      1.00      0.95        21\n",
      "\n",
      "    accuracy                           0.99       267\n",
      "   macro avg       0.96      1.00      0.98       267\n",
      "weighted avg       0.99      0.99      0.99       267\n",
      "\n",
      "Matriz de confusión:\n",
      "[[244   2]\n",
      " [  0  21]]\n",
      "\n",
      "\n",
      "Rango de Edad: 61+\n",
      "Reporte de clasificación:\n",
      "              precision    recall  f1-score   support\n",
      "\n",
      "           0       0.98      1.00      0.99       114\n",
      "           1       1.00      0.90      0.95        21\n",
      "\n",
      "    accuracy                           0.99       135\n",
      "   macro avg       0.99      0.95      0.97       135\n",
      "weighted avg       0.99      0.99      0.98       135\n",
      "\n",
      "Matriz de confusión:\n",
      "[[114   0]\n",
      " [  2  19]]\n",
      "\n",
      "\n"
     ]
    }
   ],
   "source": [
    "# Cargar el modelo desde el archivo .pkl\n",
    "modelo = joblib.load('RandomForestClassifier.pkl')\n",
    "\n",
    "# Iterar sobre cada grupo de datos (cada rango de edad)\n",
    "for grupo, datos_grupo in df.groupby('Rango de Edad'):\n",
    "    print(\"Rango de Edad:\", grupo)\n",
    "    \n",
    "    # Dividir los datos del grupo en características y variable objetivo\n",
    "    X_grupo = datos_grupo[['Income', 'CCAvg', 'Education', 'Mortgage', 'CD.Account']]\n",
    "    y_grupo = datos_grupo['Personal.Loan']\n",
    "    \n",
    "    # Dividir los datos del grupo en entrenamiento y prueba\n",
    "    X_train, X_test, y_train, y_test = train_test_split(X_grupo, y_grupo, test_size=0.2, random_state=42)\n",
    "    \n",
    "    # Hacer predicciones en el conjunto de prueba\n",
    "    predicciones = modelo.predict(X_test)\n",
    "    \n",
    "    # Calcular métricas de evaluación\n",
    "    reporte = classification_report(y_test, predicciones)\n",
    "    print(\"Reporte de clasificación:\")\n",
    "    print(reporte)\n",
    "    \n",
    "    # Generar matriz de confusión\n",
    "    matriz_confusion = confusion_matrix(y_test, predicciones)\n",
    "    print(\"Matriz de confusión:\")\n",
    "    print(matriz_confusion)\n",
    "    print(\"\\n\")"
   ]
  },
  {
   "cell_type": "code",
   "execution_count": null,
   "metadata": {},
   "outputs": [],
   "source": []
  }
 ],
 "metadata": {
  "kernelspec": {
   "display_name": "proyectoetica",
   "language": "python",
   "name": "python3"
  },
  "language_info": {
   "codemirror_mode": {
    "name": "ipython",
    "version": 3
   },
   "file_extension": ".py",
   "mimetype": "text/x-python",
   "name": "python",
   "nbconvert_exporter": "python",
   "pygments_lexer": "ipython3",
   "version": "3.9.19"
  }
 },
 "nbformat": 4,
 "nbformat_minor": 2
}
