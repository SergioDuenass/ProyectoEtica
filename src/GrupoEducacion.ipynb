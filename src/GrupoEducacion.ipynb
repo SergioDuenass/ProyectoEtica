{
 "cells": [
  {
   "cell_type": "code",
   "execution_count": 1,
   "metadata": {},
   "outputs": [],
   "source": [
    "# Librerias a utilizar\n",
    "import pickle\n",
    "import pandas as pd\n",
    "from sklearn.model_selection import train_test_split\n",
    "from sklearn.metrics import classification_report, confusion_matrix\n",
    "import joblib"
   ]
  },
  {
   "cell_type": "code",
   "execution_count": 2,
   "metadata": {},
   "outputs": [],
   "source": [
    "df = pd.read_csv(\"../data/bankloan.csv\")\n",
    "df['Experience'] = abs(df['Experience'])"
   ]
  },
  {
   "cell_type": "code",
   "execution_count": 4,
   "metadata": {},
   "outputs": [
    {
     "data": {
      "text/plain": [
       "count    5000.000000\n",
       "mean        1.881000\n",
       "std         0.839869\n",
       "min         1.000000\n",
       "25%         1.000000\n",
       "50%         2.000000\n",
       "75%         3.000000\n",
       "max         3.000000\n",
       "Name: Education, dtype: float64"
      ]
     },
     "execution_count": 4,
     "metadata": {},
     "output_type": "execute_result"
    }
   ],
   "source": [
    "df[\"Education\"].describe()"
   ]
  },
  {
   "cell_type": "code",
   "execution_count": 5,
   "metadata": {},
   "outputs": [
    {
     "name": "stdout",
     "output_type": "stream",
     "text": [
      "Education: 1\n",
      "Reporte de clasificación:\n",
      "              precision    recall  f1-score   support\n",
      "\n",
      "           0       0.99      1.00      0.99       395\n",
      "           1       0.95      0.84      0.89        25\n",
      "\n",
      "    accuracy                           0.99       420\n",
      "   macro avg       0.97      0.92      0.94       420\n",
      "weighted avg       0.99      0.99      0.99       420\n",
      "\n",
      "Matriz de confusión:\n",
      "[[394   1]\n",
      " [  4  21]]\n",
      "\n",
      "\n",
      "Education: 2\n",
      "Reporte de clasificación:\n",
      "              precision    recall  f1-score   support\n",
      "\n",
      "           0       1.00      1.00      1.00       243\n",
      "           1       0.97      1.00      0.99        38\n",
      "\n",
      "    accuracy                           1.00       281\n",
      "   macro avg       0.99      1.00      0.99       281\n",
      "weighted avg       1.00      1.00      1.00       281\n",
      "\n",
      "Matriz de confusión:\n",
      "[[242   1]\n",
      " [  0  38]]\n",
      "\n",
      "\n",
      "Education: 3\n",
      "Reporte de clasificación:\n",
      "              precision    recall  f1-score   support\n",
      "\n",
      "           0       1.00      1.00      1.00       260\n",
      "           1       1.00      0.98      0.99        41\n",
      "\n",
      "    accuracy                           1.00       301\n",
      "   macro avg       1.00      0.99      0.99       301\n",
      "weighted avg       1.00      1.00      1.00       301\n",
      "\n",
      "Matriz de confusión:\n",
      "[[260   0]\n",
      " [  1  40]]\n",
      "\n",
      "\n"
     ]
    }
   ],
   "source": [
    "# Cargar el modelo desde el archivo .pkl\n",
    "modelo = joblib.load('RandomForestClassifier.pkl')\n",
    "\n",
    "# Iterar sobre cada grupo de datos (cada rango de edad)\n",
    "for grupo, datos_grupo in df.groupby('Education'):\n",
    "    print(\"Education:\", grupo)\n",
    "    \n",
    "    # Dividir los datos del grupo en características y variable objetivo\n",
    "    X_grupo = datos_grupo[['Income', 'CCAvg', 'Education', 'Mortgage', 'CD.Account']]\n",
    "    y_grupo = datos_grupo['Personal.Loan']\n",
    "    \n",
    "    # Dividir los datos del grupo en entrenamiento y prueba\n",
    "    X_train, X_test, y_train, y_test = train_test_split(X_grupo, y_grupo, test_size=0.2, random_state=42)\n",
    "    \n",
    "    # Hacer predicciones en el conjunto de prueba\n",
    "    predicciones = modelo.predict(X_test)\n",
    "    \n",
    "    # Calcular métricas de evaluación\n",
    "    reporte = classification_report(y_test, predicciones)\n",
    "    print(\"Reporte de clasificación:\")\n",
    "    print(reporte)\n",
    "    \n",
    "    # Generar matriz de confusión\n",
    "    matriz_confusion = confusion_matrix(y_test, predicciones)\n",
    "    print(\"Matriz de confusión:\")\n",
    "    print(matriz_confusion)\n",
    "    print(\"\\n\")"
   ]
  },
  {
   "cell_type": "markdown",
   "metadata": {},
   "source": []
  }
 ],
 "metadata": {
  "kernelspec": {
   "display_name": "proyectoetica",
   "language": "python",
   "name": "python3"
  },
  "language_info": {
   "codemirror_mode": {
    "name": "ipython",
    "version": 3
   },
   "file_extension": ".py",
   "mimetype": "text/x-python",
   "name": "python",
   "nbconvert_exporter": "python",
   "pygments_lexer": "ipython3",
   "version": "3.9.19"
  }
 },
 "nbformat": 4,
 "nbformat_minor": 2
}
