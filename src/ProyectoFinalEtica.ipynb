{
  "cells": [
    {
      "cell_type": "markdown",
      "id": "2554d3d8-f704-466f-a8a1-e7cc74c6fe59",
      "metadata": {
        "id": "2554d3d8-f704-466f-a8a1-e7cc74c6fe59"
      },
      "source": [
        "___\n",
        "<img style=\"float: left; margin: 30px 15px 15px 15px;\" src=\"https://d33wubrfki0l68.cloudfront.net/4ec62c1c925a380c912ddad740d18554c6822a11/fabe4/img/sponsors/iteso-university.png\" width=\"300\" height=\"500\" />\n",
        "\n",
        "## Proyecto Final de Ética en la Ciencia de Datos\n",
        "\n",
        "**Integrantes:**\n",
        "- Sergio Daniel Dueñas Godinez - 739300\n",
        "- Ricardo Damian Hernandez Ramirez - 740356\n",
        "- Manuel Alejandro Murguía Orantes - 739360\n",
        "\n",
        "**Fecha:** 10 de mayo del 2024.\n",
        "\n",
        "**Profesor:** Renatta Garcia Sanchez\n",
        "    \n",
        "**Link a Github**: https://github.com/SergioDuenass/ProyectoEtica"
      ]
    },
    {
      "cell_type": "markdown",
      "id": "e4be45d6-898a-4650-8cc1-8bdb46f6e03c",
      "metadata": {
        "id": "e4be45d6-898a-4650-8cc1-8bdb46f6e03c"
      },
      "source": [
        "## Bank Loan Approval\n",
        "\n",
        "##### [Link de nuestro Dataset](https://www.kaggle.com/datasets/vikramamin/bank-loan-approval-lr-dt-rf-and-auc)"
      ]
    },
    {
      "cell_type": "markdown",
      "id": "0ad51877-ca68-4c98-a4e1-507d063846d0",
      "metadata": {
        "id": "0ad51877-ca68-4c98-a4e1-507d063846d0"
      },
      "source": [
        "<div style=\"text-align: justify\">\n",
        "Como nuestro proyecto final de la matería Ética en la Ciencia de Datos nos quisimos enfocar en la transparencia y la equidad en el proceso de aprobación de préstamos bancarios en California, Estados Unidos. Utiizamos un conjunto de datos denominado 'bank loan approval', el cual contiene información detallada sobre diferentes individuos incluyendo:\n",
        "\n",
        " - Edad\n",
        " - Años de Experiencia Laboral\n",
        " - Ingresos Anuales (Expresado en miles)\n",
        " - Código Postal\n",
        " - Nivel de Educación\n",
        "\n",
        "entre otras variables. Nuestro objetivo fue desarrollar un modelo predictivo que evaluara de manera justa y precisa la eligibilidad de una persona para recibir un préstamo.\n",
        "<br>\n",
        "\n",
        "**Índice**\n",
        "1. [Presentación de Datos](#id1)\n",
        "2. [Análisis Exploratorio (EDA)](#id2)\n",
        "3. [Modelado y Selección de Modelo](#id3)\n",
        "4. [Aplicación de Técnicas Fairness](#id4)\n",
        "5. [Conclusiones](#id5)\n",
        "</div>"
      ]
    },
    {
      "cell_type": "markdown",
      "id": "51387aa4-dd25-42bd-b298-887c86afa102",
      "metadata": {
        "id": "51387aa4-dd25-42bd-b298-887c86afa102"
      },
      "source": [
        "<div id='id1'/>\n",
        "\n",
        "## Presentación de Datos\n",
        "\n",
        "#### Librerías"
      ]
    },
    {
      "cell_type": "code",
      "execution_count": 2,
      "id": "ebe05931-a5fe-4bd3-a297-6ebed3a5fb33",
      "metadata": {
        "colab": {
          "base_uri": "https://localhost:8080/",
          "height": 356
        },
        "id": "ebe05931-a5fe-4bd3-a297-6ebed3a5fb33",
        "outputId": "c7e584c6-b053-486d-9dd7-0218f6b224fc"
      },
      "outputs": [],
      "source": [
        "import matplotlib.pyplot as plt\n",
        "import seaborn as sns\n",
        "import pandas as pd\n",
        "import numpy as np\n",
        "\n",
        "import warnings\n",
        "import pickle\n",
        "import joblib\n",
        "import json\n",
        "\n",
        "from sklearn.metrics import classification_report, confusion_matrix, recall_score, accuracy_score\n",
        "from sklearn.feature_selection import SelectKBest, f_regression\n",
        "from sklearn.ensemble import RandomForestClassifier\n",
        "from sklearn.model_selection import train_test_split\n",
        "from pyzipcode import ZipCodeDatabase\n",
        "from pycaret.classification import *\n",
        "from sklearn.tree import DecisionTreeClassifier\n",
        "\n",
        "from fairlearn.metrics import count, false_positive_rate, selection_rate, demographic_parity_difference, demographic_parity_ratio, equalized_odds_ratio\n",
        "from fairlearn.postprocessing import ThresholdOptimizer, plot_threshold_optimizer\n",
        "from fairlearn.preprocessing import CorrelationRemover\n",
        "from fairlearn.reductions import ExponentiatedGradient, DemographicParity\n",
        "\n",
        "zcdb = ZipCodeDatabase()\n",
        "warnings.filterwarnings(\"ignore\")"
      ]
    },
    {
      "cell_type": "markdown",
      "id": "8a1f3216-2347-4e69-8d8a-9e011ab40eee",
      "metadata": {
        "id": "8a1f3216-2347-4e69-8d8a-9e011ab40eee"
      },
      "source": [
        "#### Importación de Datos"
      ]
    },
    {
      "cell_type": "code",
      "execution_count": 3,
      "id": "697c42e7-7d61-4013-8bb4-5861765d31cf",
      "metadata": {
        "colab": {
          "base_uri": "https://localhost:8080/",
          "height": 206
        },
        "id": "697c42e7-7d61-4013-8bb4-5861765d31cf",
        "outputId": "2cbfa93d-b133-41ac-f41a-6047770d0546"
      },
      "outputs": [
        {
          "data": {
            "text/html": [
              "<div>\n",
              "<style scoped>\n",
              "    .dataframe tbody tr th:only-of-type {\n",
              "        vertical-align: middle;\n",
              "    }\n",
              "\n",
              "    .dataframe tbody tr th {\n",
              "        vertical-align: top;\n",
              "    }\n",
              "\n",
              "    .dataframe thead th {\n",
              "        text-align: right;\n",
              "    }\n",
              "</style>\n",
              "<table border=\"1\" class=\"dataframe\">\n",
              "  <thead>\n",
              "    <tr style=\"text-align: right;\">\n",
              "      <th></th>\n",
              "      <th>ID</th>\n",
              "      <th>Age</th>\n",
              "      <th>Experience</th>\n",
              "      <th>Income</th>\n",
              "      <th>ZIP.Code</th>\n",
              "      <th>Family</th>\n",
              "      <th>CCAvg</th>\n",
              "      <th>Education</th>\n",
              "      <th>Mortgage</th>\n",
              "      <th>Personal.Loan</th>\n",
              "      <th>Securities.Account</th>\n",
              "      <th>CD.Account</th>\n",
              "      <th>Online</th>\n",
              "      <th>CreditCard</th>\n",
              "    </tr>\n",
              "  </thead>\n",
              "  <tbody>\n",
              "    <tr>\n",
              "      <th>0</th>\n",
              "      <td>1</td>\n",
              "      <td>25</td>\n",
              "      <td>1</td>\n",
              "      <td>49</td>\n",
              "      <td>91107</td>\n",
              "      <td>4</td>\n",
              "      <td>1.6</td>\n",
              "      <td>1</td>\n",
              "      <td>0</td>\n",
              "      <td>0</td>\n",
              "      <td>1</td>\n",
              "      <td>0</td>\n",
              "      <td>0</td>\n",
              "      <td>0</td>\n",
              "    </tr>\n",
              "    <tr>\n",
              "      <th>1</th>\n",
              "      <td>2</td>\n",
              "      <td>45</td>\n",
              "      <td>19</td>\n",
              "      <td>34</td>\n",
              "      <td>90089</td>\n",
              "      <td>3</td>\n",
              "      <td>1.5</td>\n",
              "      <td>1</td>\n",
              "      <td>0</td>\n",
              "      <td>0</td>\n",
              "      <td>1</td>\n",
              "      <td>0</td>\n",
              "      <td>0</td>\n",
              "      <td>0</td>\n",
              "    </tr>\n",
              "    <tr>\n",
              "      <th>2</th>\n",
              "      <td>3</td>\n",
              "      <td>39</td>\n",
              "      <td>15</td>\n",
              "      <td>11</td>\n",
              "      <td>94720</td>\n",
              "      <td>1</td>\n",
              "      <td>1.0</td>\n",
              "      <td>1</td>\n",
              "      <td>0</td>\n",
              "      <td>0</td>\n",
              "      <td>0</td>\n",
              "      <td>0</td>\n",
              "      <td>0</td>\n",
              "      <td>0</td>\n",
              "    </tr>\n",
              "    <tr>\n",
              "      <th>3</th>\n",
              "      <td>4</td>\n",
              "      <td>35</td>\n",
              "      <td>9</td>\n",
              "      <td>100</td>\n",
              "      <td>94112</td>\n",
              "      <td>1</td>\n",
              "      <td>2.7</td>\n",
              "      <td>2</td>\n",
              "      <td>0</td>\n",
              "      <td>0</td>\n",
              "      <td>0</td>\n",
              "      <td>0</td>\n",
              "      <td>0</td>\n",
              "      <td>0</td>\n",
              "    </tr>\n",
              "    <tr>\n",
              "      <th>4</th>\n",
              "      <td>5</td>\n",
              "      <td>35</td>\n",
              "      <td>8</td>\n",
              "      <td>45</td>\n",
              "      <td>91330</td>\n",
              "      <td>4</td>\n",
              "      <td>1.0</td>\n",
              "      <td>2</td>\n",
              "      <td>0</td>\n",
              "      <td>0</td>\n",
              "      <td>0</td>\n",
              "      <td>0</td>\n",
              "      <td>0</td>\n",
              "      <td>1</td>\n",
              "    </tr>\n",
              "  </tbody>\n",
              "</table>\n",
              "</div>"
            ],
            "text/plain": [
              "   ID  Age  Experience  Income  ZIP.Code  Family  CCAvg  Education  Mortgage  \\\n",
              "0   1   25           1      49     91107       4    1.6          1         0   \n",
              "1   2   45          19      34     90089       3    1.5          1         0   \n",
              "2   3   39          15      11     94720       1    1.0          1         0   \n",
              "3   4   35           9     100     94112       1    2.7          2         0   \n",
              "4   5   35           8      45     91330       4    1.0          2         0   \n",
              "\n",
              "   Personal.Loan  Securities.Account  CD.Account  Online  CreditCard  \n",
              "0              0                   1           0       0           0  \n",
              "1              0                   1           0       0           0  \n",
              "2              0                   0           0       0           0  \n",
              "3              0                   0           0       0           0  \n",
              "4              0                   0           0       0           1  "
            ]
          },
          "execution_count": 3,
          "metadata": {},
          "output_type": "execute_result"
        }
      ],
      "source": [
        "df = pd.read_csv(\"../data/bankloan.csv\")\n",
        "df.head()"
      ]
    },
    {
      "cell_type": "markdown",
      "id": "efa74352-e5cd-4929-bf57-9b67236ae2dd",
      "metadata": {
        "id": "efa74352-e5cd-4929-bf57-9b67236ae2dd"
      },
      "source": [
        "##### Descripción de columnas:\n",
        "\n",
        "- **ID**: ID del cliente.\n",
        "\n",
        "- **Age**: Edad en años.\n",
        "\n",
        "- **Experience**: Experiencia de trabajo en años.\n",
        "\n",
        "- **Income**: Ingreso anual expresado en miles.\n",
        "\n",
        "- **Zipcode**: Código postal de la vivienda del cliente.\n",
        "\n",
        "- **Family**: Número de miembros en la familia.\n",
        "\n",
        "- **CCAvg**: Promedio del gasto en su tarjeta de crédito al mes expresado en miles.\n",
        "\n",
        "- **Education**: Nivel de educación\n",
        "    - 1: Título de grado\n",
        "    - 2: Título de maestría\n",
        "    - 3: Títulos profesionales avanzados (PhD, MD, etc.)\n",
        "\n",
        "- **Mortgage**: Valor de la hipoteca de su casa en miles.\n",
        "\n",
        "- **Securities Account**: Si el cliente tiene una cuenta de valores en el banco como acciones.\n",
        "\n",
        "- **CD Account**: Si el cliente tiene un certificado de cuenta de depósito (CD) en el banco.\n",
        "\n",
        "- **Online**: Si el cliente usa las páginas del banco en línea.\n",
        "\n",
        "- **CreditCard**: Usa una tarjeta de crédito emitida por el banco.\n",
        "\n",
        "- **Personal Loan**: El cliente aceptó un préstamo personal en la campaña pasada.\n"
      ]
    },
    {
      "cell_type": "code",
      "execution_count": 4,
      "id": "b062fe82-f3f1-40c5-9772-590e7044451c",
      "metadata": {
        "colab": {
          "base_uri": "https://localhost:8080/"
        },
        "id": "b062fe82-f3f1-40c5-9772-590e7044451c",
        "outputId": "9f4e8f65-d542-4db9-df78-ee4bf2da071d"
      },
      "outputs": [
        {
          "name": "stdout",
          "output_type": "stream",
          "text": [
            "<class 'pandas.core.frame.DataFrame'>\n",
            "RangeIndex: 5000 entries, 0 to 4999\n",
            "Data columns (total 14 columns):\n",
            " #   Column              Non-Null Count  Dtype  \n",
            "---  ------              --------------  -----  \n",
            " 0   ID                  5000 non-null   int64  \n",
            " 1   Age                 5000 non-null   int64  \n",
            " 2   Experience          5000 non-null   int64  \n",
            " 3   Income              5000 non-null   int64  \n",
            " 4   ZIP.Code            5000 non-null   int64  \n",
            " 5   Family              5000 non-null   int64  \n",
            " 6   CCAvg               5000 non-null   float64\n",
            " 7   Education           5000 non-null   int64  \n",
            " 8   Mortgage            5000 non-null   int64  \n",
            " 9   Personal.Loan       5000 non-null   int64  \n",
            " 10  Securities.Account  5000 non-null   int64  \n",
            " 11  CD.Account          5000 non-null   int64  \n",
            " 12  Online              5000 non-null   int64  \n",
            " 13  CreditCard          5000 non-null   int64  \n",
            "dtypes: float64(1), int64(13)\n",
            "memory usage: 547.0 KB\n"
          ]
        }
      ],
      "source": [
        "df.info()"
      ]
    },
    {
      "cell_type": "markdown",
      "id": "c03b22bf-b5c1-4798-bbb7-87886795abdf",
      "metadata": {
        "id": "c03b22bf-b5c1-4798-bbb7-87886795abdf"
      },
      "source": [
        "<div style=\"text-align: justify\">\n",
        "Vemos que no tenemos valores nulos y que todos nuestros datos son de tipo númerico. Realmente en esta parte no hay mucho que podamos hacer, más que presentar los datos, por lo que podemos pasar a la siguiente sección donde veremos de mejor manera la composición de nuestros datos y su comportamiento"
      ]
    },
    {
      "cell_type": "markdown",
      "id": "5503a1b2-e469-4146-8d85-935f00447573",
      "metadata": {
        "id": "5503a1b2-e469-4146-8d85-935f00447573"
      },
      "source": [
        "<div id='id2'/>\n",
        "    \n",
        "## Análisis Exploratorio (EDA)\n",
        "\n",
        "Primeramente, aunque no usaremos los códigos postales para nuestro modelo, pues atenta contra la moral, nos gustaría comprobar de donde son los códigos postales"
      ]
    },
    {
      "cell_type": "code",
      "execution_count": 5,
      "id": "a5f84cfa-be37-420d-995c-d297679e248b",
      "metadata": {
        "id": "a5f84cfa-be37-420d-995c-d297679e248b"
      },
      "outputs": [],
      "source": [
        "zipCodeState = []\n",
        "zipCodeCity = []\n",
        "\n",
        "for i in df[\"ZIP.Code\"]:\n",
        "    try:\n",
        "        zipcode = zcdb[i]\n",
        "        zipCodeState.append(zipcode.state)\n",
        "        zipCodeCity.append(zipcode.city)\n",
        "    except KeyError:\n",
        "        zipCodeState.append(\"notFound\")\n",
        "        zipCodeCity.append(\"notFound\")\n",
        "\n",
        "df[\"zipCodeCity\"] = zipCodeCity\n",
        "df[\"zipCodeState\"] = zipCodeState"
      ]
    },
    {
      "cell_type": "code",
      "execution_count": 6,
      "id": "a58a6cd7-11ef-4716-9b97-de2734fc290b",
      "metadata": {
        "colab": {
          "base_uri": "https://localhost:8080/"
        },
        "id": "a58a6cd7-11ef-4716-9b97-de2734fc290b",
        "outputId": "95edae0e-0403-4f1a-bbf3-c0ce62c5692c"
      },
      "outputs": [
        {
          "name": "stdout",
          "output_type": "stream",
          "text": [
            "['CA' 'notFound'] 243\n"
          ]
        }
      ],
      "source": [
        "print(df.zipCodeState.unique(), len(df.zipCodeCity.unique()))"
      ]
    },
    {
      "cell_type": "markdown",
      "id": "2ad76149-fd84-40b2-8f28-280422307918",
      "metadata": {
        "id": "2ad76149-fd84-40b2-8f28-280422307918"
      },
      "source": [
        "<div style=\"text-align: justify\">\n",
        "Primeramente tenemos que nuestros datos fueron tomados de dos estados diferentes, California y el otro es desconocido, y tenemos registro de 243 ciudades diferentes. Hagamos un recuento rápido de las ciudades con mayor número de datos de clientes."
      ]
    },
    {
      "cell_type": "code",
      "execution_count": 7,
      "id": "d5763674-b120-47f8-bde7-22250c68c276",
      "metadata": {
        "colab": {
          "base_uri": "https://localhost:8080/"
        },
        "id": "d5763674-b120-47f8-bde7-22250c68c276",
        "outputId": "c2508f5a-4d1a-4173-a84a-b78addd028e3"
      },
      "outputs": [
        {
          "name": "stdout",
          "output_type": "stream",
          "text": [
            "zipCodeCity\n",
            "Los Angeles      375\n",
            "San Diego        269\n",
            "San Francisco    257\n",
            "Berkeley         241\n",
            "Sacramento       148\n",
            "Palo Alto        130\n",
            "Stanford         127\n",
            "Davis            121\n",
            "La Jolla         112\n",
            "Santa Barbara    103\n",
            "San Jose          96\n",
            "Santa Clara       77\n",
            "Monterey          72\n",
            "Pasadena          71\n",
            "Irvine            58\n",
            "Name: count, dtype: int64\n"
          ]
        }
      ],
      "source": [
        "print(df[\"zipCodeCity\"].value_counts()[:15])"
      ]
    },
    {
      "cell_type": "markdown",
      "id": "3d15fde7-945c-47d0-aeb8-291e386bcd10",
      "metadata": {
        "id": "3d15fde7-945c-47d0-aeb8-291e386bcd10"
      },
      "source": [
        "<div style=\"text-align: justify\">\n",
        "Podemos ver que entre las ciudades más destacadas están Los Ángeles, San Diego y San Francisco, que tiene bastante sentido pues son ciudades altamente pobladas y que se destacan tener mayor actividad financiera. Estos datos representan el 45% de nuestros datos totales. Ahora, veamos el comportamiento de otras variables."
      ]
    },
    {
      "cell_type": "code",
      "execution_count": 8,
      "id": "54543d01-83ae-4cc2-bf95-acf58b019088",
      "metadata": {
        "colab": {
          "base_uri": "https://localhost:8080/",
          "height": 388
        },
        "id": "54543d01-83ae-4cc2-bf95-acf58b019088",
        "outputId": "9c3ac813-4e94-4723-9983-f585188f3d74"
      },
      "outputs": [
        {
          "data": {
            "image/png": "[encoded data removed]",
            "text/plain": [
              "<Figure size 1300x400 with 1 Axes>"
            ]
          },
          "metadata": {},
          "output_type": "display_data"
        }
      ],
      "source": [
        "loan_counts = df['Personal.Loan'].value_counts()\n",
        "plt.figure(figsize = (13, 4))\n",
        "plt.bar(loan_counts.index, loan_counts.values)\n",
        "plt.xlabel('Personal Loan')\n",
        "plt.ylabel('Count')\n",
        "plt.xticks(loan_counts.index, labels=['No', 'Yes'])\n",
        "plt.show()"
      ]
    },
    {
      "cell_type": "markdown",
      "id": "6iGMUtLyB7Pk",
      "metadata": {
        "id": "6iGMUtLyB7Pk"
      },
      "source": [
        "<div style=\"text-align: justify\">\n",
        "Con este gráfico de barras podemos observar un conteo rápido sobre nuestra variable de respuesta. Tenemos que alrededor de 4500 personas se les fue denegado el préstamo, mientras que las otras 500 personas fueron aceptadas, nos parece bastante interesante que los datos se comporten de esta manera, por lo profundizaremos en otras posibles variables que sean de vital importancia para entender este comportamiento"
      ]
    },
    {
      "cell_type": "code",
      "execution_count": 9,
      "id": "b8ca26b8-b093-40e2-81e7-773d872a2719",
      "metadata": {
        "colab": {
          "base_uri": "https://localhost:8080/",
          "height": 539
        },
        "id": "b8ca26b8-b093-40e2-81e7-773d872a2719",
        "outputId": "f20bcd35-9365-4f5f-8cfc-c9137c5eeaa1"
      },
      "outputs": [
        {
          "data": {
            "text/plain": [
              "<Axes: >"
            ]
          },
          "execution_count": 9,
          "metadata": {},
          "output_type": "execute_result"
        },
        {
          "data": {
            "image/png": "[encoded data removed]",
            "text/plain": [
              "<Figure size 1500x600 with 1 Axes>"
            ]
          },
          "metadata": {},
          "output_type": "display_data"
        }
      ],
      "source": [
        "df[[\"Age\", \"Experience\", \"Income\"]].boxplot(figsize = (15, 6))"
      ]
    },
    {
      "cell_type": "markdown",
      "id": "d960937f-8330-410e-aeb5-84fd5ed6fdc3",
      "metadata": {
        "id": "d960937f-8330-410e-aeb5-84fd5ed6fdc3"
      },
      "source": [
        "<div style=\"text-align: justify\">\n",
        "Primeramente podemos observar que la edad de las personas registradas tiene una gran variedad, que va desde los 25 años aprox, hasta poco más de los 60 años. También podemos observar que la experiencia laboral también varía mucho, desde personas que llevan muchos años trabajando hasta personas que parece que han trabajo años negativos, esto por supuesto posiblemente generado a la hora de capturar los datos, por lo que en su debido momento haremos lo necesario para modificar este error. Por último, en los ingresos es donde podemos ver la mayor variedad de datos posibles, pues la persona con menor ingresos registrados es de 8 mil dólares anuales mientras que la máxima registrada es de 224 mil dólares al año, una diferencia de 216 mil dólares. Junto con las celdas anteriores, exploraremos otras posibles variables y su comportamiento."
      ]
    },
    {
      "cell_type": "code",
      "execution_count": 10,
      "id": "0417c49e-e9df-4f88-bab8-6cb737e18cc7",
      "metadata": {
        "colab": {
          "base_uri": "https://localhost:8080/",
          "height": 807
        },
        "id": "0417c49e-e9df-4f88-bab8-6cb737e18cc7",
        "outputId": "52219786-f3b2-4330-b70f-47ae803259a5"
      },
      "outputs": [
        {
          "data": {
            "image/png": "[encoded data removed]",
            "text/plain": [
              "<Figure size 1200x800 with 4 Axes>"
            ]
          },
          "metadata": {},
          "output_type": "display_data"
        }
      ],
      "source": [
        "boolean_columns = [ 'CD.Account', 'Securities.Account', 'Online', 'CreditCard']\n",
        "fig, axes = plt.subplots(nrows = 2, ncols = 2, figsize = (12, 8))\n",
        "\n",
        "sns.countplot(x = 'CD.Account', data = df, ax = axes[0, 0], palette = 'magma')\n",
        "sns.countplot(x = 'Securities.Account', data = df, ax = axes[0,1], palette = 'magma')\n",
        "sns.countplot(x = 'Online', data = df, ax = axes[1, 0], palette = 'magma')\n",
        "sns.countplot(x = 'CreditCard', data = df, ax = axes[1, 1], palette = 'magma')\n",
        "\n",
        "plt.tight_layout()\n",
        "plt.show()"
      ]
    },
    {
      "cell_type": "markdown",
      "id": "qqw_Vc2ADzrc",
      "metadata": {
        "id": "qqw_Vc2ADzrc"
      },
      "source": [
        "<div style=\"text-align: justify\">\n",
        "Con estos gráficos podemos observar que las primeras dos variables se comportan con mayor sentido a lo que es nuestra variable de respuesta, y tiene bastante sentido, dado que CD.Account indica si la persona tiene un certificado de cuenta de depósito con el banco, mientras que Securities.Account indica si el cliente tiene una cuenta de valores en el banco como acciones; podríamos decir que estás variables son de suma importancia pues los clientes tienen una mayor y mejor \"reputación\" con el banco al que solicitan el préstamo. Por último, comprobemos lo anteriormente mencionado con un mapa de correlación."
      ]
    },
    {
      "cell_type": "code",
      "execution_count": 11,
      "id": "_QaLcPPKErbk",
      "metadata": {
        "colab": {
          "base_uri": "https://localhost:8080/",
          "height": 468
        },
        "id": "_QaLcPPKErbk",
        "outputId": "faafc65d-3622-42a1-be91-25e6e35101e0"
      },
      "outputs": [
        {
          "data": {
            "image/png": "[encoded data removed]",
            "text/plain": [
              "<Figure size 800x500 with 2 Axes>"
            ]
          },
          "metadata": {},
          "output_type": "display_data"
        }
      ],
      "source": [
        "numeric_columns = df.select_dtypes(include = ['number'])\n",
        "correlation = abs(numeric_columns.corr()[['Personal.Loan']]).sort_values(by = 'Personal.Loan', ascending = False)\n",
        "\n",
        "plt.figure(figsize = (8, 5))\n",
        "sns.heatmap(correlation, annot = True, cmap = 'coolwarm', fmt = '.2f', linewidths = .5)\n",
        "plt.title('Mapa de Correlación con Personal Loan')\n",
        "plt.show()"
      ]
    },
    {
      "cell_type": "markdown",
      "id": "CsymA7EYE-PE",
      "metadata": {
        "id": "CsymA7EYE-PE"
      },
      "source": [
        "Con este gráfico podemos observar que las variables con mayor correlación a nuestra variable de respuesta son:\n",
        "\n",
        "- Ingresos Anuales\n",
        "- Promedio de gasto mensual en su tarjeta\n",
        "- Variable binaria que indica si la persona tiene un certificado de cuenta de depósito"
      ]
    },
    {
      "cell_type": "markdown",
      "id": "GOAwg7dxodgF",
      "metadata": {
        "id": "GOAwg7dxodgF"
      },
      "source": [
        "<div style=\"text-align: justify\">\n",
        "En general, podemos concluir que la variable de edad es la que mejor está distribuida. En cuanto a las variables de ingresos anuales, y promedio de gastos mensuales tienen un sesgo hacía la derecha por lo que es recomendable hacer una transformación aunque no estamos seguros de esto. La variable de ingresos anuales contiene muchos datos atípicos, la cual podría ser un problema, de no ser porque es \"normal\" hasta cierto punto tener un salario por encima del promedio.\n",
        "\n",
        "En cuanto a las variables booleanas, se observa que la gran mayoría no tienen cuentas de débito en el banco, ni cuentas de acciones, además que muchas personas usan más el banco en línea que el banco tradicional físico.\n"
      ]
    },
    {
      "cell_type": "markdown",
      "id": "b3012ac6-9fdc-477c-96da-aad4543dc635",
      "metadata": {
        "id": "b3012ac6-9fdc-477c-96da-aad4543dc635"
      },
      "source": [
        "<div id='id3'/>\n",
        "    \n",
        "## Modelado y Selección de Modelo\n",
        "\n",
        "<div style=\"text-align: justify\">\n",
        "Previo al modelado, decidimos que a la columna de experiencia sacaremos los absolutos para deshacernos de los números negativos. Posteriormente removeremos la variable a predecir y haremos uso de la librería `SelectKBest` para elegir las 5 mejores variables y usar para los posteriores modelos"
      ]
    },
    {
      "cell_type": "code",
      "execution_count": 12,
      "id": "6f97f9b5-bbfe-470e-8dac-7811d91fbd10",
      "metadata": {
        "colab": {
          "base_uri": "https://localhost:8080/"
        },
        "id": "6f97f9b5-bbfe-470e-8dac-7811d91fbd10",
        "outputId": "ae630fb7-8b05-4370-eb24-65a948d41d0b"
      },
      "outputs": [
        {
          "name": "stdout",
          "output_type": "stream",
          "text": [
            "Index(['Income', 'CCAvg', 'Education', 'Mortgage', 'CD.Account'], dtype='object')\n"
          ]
        }
      ],
      "source": [
        "df['Experience'] = abs(df['Experience'])\n",
        "\n",
        "\n",
        "X = df.drop(columns = ['Personal.Loan', 'zipCodeCity', 'zipCodeState', 'ZIP.Code', 'ID'])\n",
        "\n",
        "y = df[\"Personal.Loan\"]\n",
        "\n",
        "selecKBest = SelectKBest(score_func = f_regression, k = 5)\n",
        "selecKBest.fit(X, y)\n",
        "\n",
        "variables = X.columns[selecKBest.get_support()]\n",
        "print(variables)"
      ]
    },
    {
      "cell_type": "code",
      "execution_count": 13,
      "id": "542bc120-1a88-4e37-a8b9-7a620df2f5e6",
      "metadata": {
        "id": "542bc120-1a88-4e37-a8b9-7a620df2f5e6"
      },
      "outputs": [
        {
          "data": {
            "text/html": [
              "<style type=\"text/css\">\n",
              "#T_8213d_row9_col1 {\n",
              "  background-color: lightgreen;\n",
              "}\n",
              "</style>\n",
              "<table id=\"T_8213d\">\n",
              "  <thead>\n",
              "    <tr>\n",
              "      <th class=\"blank level0\" >&nbsp;</th>\n",
              "      <th id=\"T_8213d_level0_col0\" class=\"col_heading level0 col0\" >Description</th>\n",
              "      <th id=\"T_8213d_level0_col1\" class=\"col_heading level0 col1\" >Value</th>\n",
              "    </tr>\n",
              "  </thead>\n",
              "  <tbody>\n",
              "    <tr>\n",
              "      <th id=\"T_8213d_level0_row0\" class=\"row_heading level0 row0\" >0</th>\n",
              "      <td id=\"T_8213d_row0_col0\" class=\"data row0 col0\" >Session id</td>\n",
              "      <td id=\"T_8213d_row0_col1\" class=\"data row0 col1\" >123</td>\n",
              "    </tr>\n",
              "    <tr>\n",
              "      <th id=\"T_8213d_level0_row1\" class=\"row_heading level0 row1\" >1</th>\n",
              "      <td id=\"T_8213d_row1_col0\" class=\"data row1 col0\" >Target</td>\n",
              "      <td id=\"T_8213d_row1_col1\" class=\"data row1 col1\" >Personal.Loan</td>\n",
              "    </tr>\n",
              "    <tr>\n",
              "      <th id=\"T_8213d_level0_row2\" class=\"row_heading level0 row2\" >2</th>\n",
              "      <td id=\"T_8213d_row2_col0\" class=\"data row2 col0\" >Target type</td>\n",
              "      <td id=\"T_8213d_row2_col1\" class=\"data row2 col1\" >Binary</td>\n",
              "    </tr>\n",
              "    <tr>\n",
              "      <th id=\"T_8213d_level0_row3\" class=\"row_heading level0 row3\" >3</th>\n",
              "      <td id=\"T_8213d_row3_col0\" class=\"data row3 col0\" >Original data shape</td>\n",
              "      <td id=\"T_8213d_row3_col1\" class=\"data row3 col1\" >(5000, 6)</td>\n",
              "    </tr>\n",
              "    <tr>\n",
              "      <th id=\"T_8213d_level0_row4\" class=\"row_heading level0 row4\" >4</th>\n",
              "      <td id=\"T_8213d_row4_col0\" class=\"data row4 col0\" >Transformed data shape</td>\n",
              "      <td id=\"T_8213d_row4_col1\" class=\"data row4 col1\" >(5000, 8)</td>\n",
              "    </tr>\n",
              "    <tr>\n",
              "      <th id=\"T_8213d_level0_row5\" class=\"row_heading level0 row5\" >5</th>\n",
              "      <td id=\"T_8213d_row5_col0\" class=\"data row5 col0\" >Transformed train set shape</td>\n",
              "      <td id=\"T_8213d_row5_col1\" class=\"data row5 col1\" >(3500, 8)</td>\n",
              "    </tr>\n",
              "    <tr>\n",
              "      <th id=\"T_8213d_level0_row6\" class=\"row_heading level0 row6\" >6</th>\n",
              "      <td id=\"T_8213d_row6_col0\" class=\"data row6 col0\" >Transformed test set shape</td>\n",
              "      <td id=\"T_8213d_row6_col1\" class=\"data row6 col1\" >(1500, 8)</td>\n",
              "    </tr>\n",
              "    <tr>\n",
              "      <th id=\"T_8213d_level0_row7\" class=\"row_heading level0 row7\" >7</th>\n",
              "      <td id=\"T_8213d_row7_col0\" class=\"data row7 col0\" >Numeric features</td>\n",
              "      <td id=\"T_8213d_row7_col1\" class=\"data row7 col1\" >3</td>\n",
              "    </tr>\n",
              "    <tr>\n",
              "      <th id=\"T_8213d_level0_row8\" class=\"row_heading level0 row8\" >8</th>\n",
              "      <td id=\"T_8213d_row8_col0\" class=\"data row8 col0\" >Categorical features</td>\n",
              "      <td id=\"T_8213d_row8_col1\" class=\"data row8 col1\" >2</td>\n",
              "    </tr>\n",
              "    <tr>\n",
              "      <th id=\"T_8213d_level0_row9\" class=\"row_heading level0 row9\" >9</th>\n",
              "      <td id=\"T_8213d_row9_col0\" class=\"data row9 col0\" >Preprocess</td>\n",
              "      <td id=\"T_8213d_row9_col1\" class=\"data row9 col1\" >True</td>\n",
              "    </tr>\n",
              "    <tr>\n",
              "      <th id=\"T_8213d_level0_row10\" class=\"row_heading level0 row10\" >10</th>\n",
              "      <td id=\"T_8213d_row10_col0\" class=\"data row10 col0\" >Imputation type</td>\n",
              "      <td id=\"T_8213d_row10_col1\" class=\"data row10 col1\" >simple</td>\n",
              "    </tr>\n",
              "    <tr>\n",
              "      <th id=\"T_8213d_level0_row11\" class=\"row_heading level0 row11\" >11</th>\n",
              "      <td id=\"T_8213d_row11_col0\" class=\"data row11 col0\" >Numeric imputation</td>\n",
              "      <td id=\"T_8213d_row11_col1\" class=\"data row11 col1\" >mean</td>\n",
              "    </tr>\n",
              "    <tr>\n",
              "      <th id=\"T_8213d_level0_row12\" class=\"row_heading level0 row12\" >12</th>\n",
              "      <td id=\"T_8213d_row12_col0\" class=\"data row12 col0\" >Categorical imputation</td>\n",
              "      <td id=\"T_8213d_row12_col1\" class=\"data row12 col1\" >mode</td>\n",
              "    </tr>\n",
              "    <tr>\n",
              "      <th id=\"T_8213d_level0_row13\" class=\"row_heading level0 row13\" >13</th>\n",
              "      <td id=\"T_8213d_row13_col0\" class=\"data row13 col0\" >Maximum one-hot encoding</td>\n",
              "      <td id=\"T_8213d_row13_col1\" class=\"data row13 col1\" >25</td>\n",
              "    </tr>\n",
              "    <tr>\n",
              "      <th id=\"T_8213d_level0_row14\" class=\"row_heading level0 row14\" >14</th>\n",
              "      <td id=\"T_8213d_row14_col0\" class=\"data row14 col0\" >Encoding method</td>\n",
              "      <td id=\"T_8213d_row14_col1\" class=\"data row14 col1\" >None</td>\n",
              "    </tr>\n",
              "    <tr>\n",
              "      <th id=\"T_8213d_level0_row15\" class=\"row_heading level0 row15\" >15</th>\n",
              "      <td id=\"T_8213d_row15_col0\" class=\"data row15 col0\" >Fold Generator</td>\n",
              "      <td id=\"T_8213d_row15_col1\" class=\"data row15 col1\" >StratifiedKFold</td>\n",
              "    </tr>\n",
              "    <tr>\n",
              "      <th id=\"T_8213d_level0_row16\" class=\"row_heading level0 row16\" >16</th>\n",
              "      <td id=\"T_8213d_row16_col0\" class=\"data row16 col0\" >Fold Number</td>\n",
              "      <td id=\"T_8213d_row16_col1\" class=\"data row16 col1\" >10</td>\n",
              "    </tr>\n",
              "    <tr>\n",
              "      <th id=\"T_8213d_level0_row17\" class=\"row_heading level0 row17\" >17</th>\n",
              "      <td id=\"T_8213d_row17_col0\" class=\"data row17 col0\" >CPU Jobs</td>\n",
              "      <td id=\"T_8213d_row17_col1\" class=\"data row17 col1\" >-1</td>\n",
              "    </tr>\n",
              "    <tr>\n",
              "      <th id=\"T_8213d_level0_row18\" class=\"row_heading level0 row18\" >18</th>\n",
              "      <td id=\"T_8213d_row18_col0\" class=\"data row18 col0\" >Use GPU</td>\n",
              "      <td id=\"T_8213d_row18_col1\" class=\"data row18 col1\" >False</td>\n",
              "    </tr>\n",
              "    <tr>\n",
              "      <th id=\"T_8213d_level0_row19\" class=\"row_heading level0 row19\" >19</th>\n",
              "      <td id=\"T_8213d_row19_col0\" class=\"data row19 col0\" >Log Experiment</td>\n",
              "      <td id=\"T_8213d_row19_col1\" class=\"data row19 col1\" >False</td>\n",
              "    </tr>\n",
              "    <tr>\n",
              "      <th id=\"T_8213d_level0_row20\" class=\"row_heading level0 row20\" >20</th>\n",
              "      <td id=\"T_8213d_row20_col0\" class=\"data row20 col0\" >Experiment Name</td>\n",
              "      <td id=\"T_8213d_row20_col1\" class=\"data row20 col1\" >clf-default-name</td>\n",
              "    </tr>\n",
              "    <tr>\n",
              "      <th id=\"T_8213d_level0_row21\" class=\"row_heading level0 row21\" >21</th>\n",
              "      <td id=\"T_8213d_row21_col0\" class=\"data row21 col0\" >USI</td>\n",
              "      <td id=\"T_8213d_row21_col1\" class=\"data row21 col1\" >3904</td>\n",
              "    </tr>\n",
              "  </tbody>\n",
              "</table>\n"
            ],
            "text/plain": [
              "<pandas.io.formats.style.Styler at 0x17ae44730>"
            ]
          },
          "metadata": {},
          "output_type": "display_data"
        }
      ],
      "source": [
        "numeric_features = ['Income', 'CCAvg', 'Mortgage']\n",
        "categorical_features = ['Education', 'CD.Account']\n",
        "\n",
        "s = setup(data = df[['Income', 'CCAvg', 'Education', 'Mortgage', 'CD.Account', 'Personal.Loan']],\n",
        "          target='Personal.Loan',\n",
        "          session_id = 123,\n",
        "          numeric_features = numeric_features,\n",
        "          categorical_features = categorical_features)"
      ]
    },
    {
      "cell_type": "code",
      "execution_count": 14,
      "id": "c0928550-2726-47af-a796-66109c761cd3",
      "metadata": {
        "id": "c0928550-2726-47af-a796-66109c761cd3"
      },
      "outputs": [
        {
          "data": {
            "text/html": [],
            "text/plain": [
              "<IPython.core.display.HTML object>"
            ]
          },
          "metadata": {},
          "output_type": "display_data"
        },
        {
          "data": {
            "text/html": [
              "<style type=\"text/css\">\n",
              "#T_da747 th {\n",
              "  text-align: left;\n",
              "}\n",
              "#T_da747_row0_col0, #T_da747_row0_col3, #T_da747_row1_col0, #T_da747_row1_col1, #T_da747_row1_col3, #T_da747_row1_col4, #T_da747_row1_col5, #T_da747_row1_col6, #T_da747_row1_col7, #T_da747_row2_col0, #T_da747_row2_col1, #T_da747_row2_col4, #T_da747_row2_col5, #T_da747_row2_col6, #T_da747_row2_col7, #T_da747_row3_col0, #T_da747_row3_col1, #T_da747_row3_col3, #T_da747_row3_col4, #T_da747_row3_col5, #T_da747_row3_col6, #T_da747_row3_col7, #T_da747_row4_col0, #T_da747_row4_col1, #T_da747_row4_col3, #T_da747_row4_col4, #T_da747_row4_col5, #T_da747_row4_col6, #T_da747_row4_col7, #T_da747_row5_col0, #T_da747_row5_col1, #T_da747_row5_col3, #T_da747_row5_col4, #T_da747_row5_col5, #T_da747_row5_col6, #T_da747_row5_col7, #T_da747_row6_col0, #T_da747_row6_col1, #T_da747_row6_col3, #T_da747_row6_col4, #T_da747_row6_col5, #T_da747_row6_col6, #T_da747_row6_col7, #T_da747_row7_col0, #T_da747_row7_col1, #T_da747_row7_col3, #T_da747_row7_col4, #T_da747_row7_col5, #T_da747_row7_col6, #T_da747_row7_col7, #T_da747_row8_col0, #T_da747_row8_col1, #T_da747_row8_col3, #T_da747_row8_col4, #T_da747_row8_col5, #T_da747_row8_col6, #T_da747_row8_col7, #T_da747_row9_col0, #T_da747_row9_col1, #T_da747_row9_col3, #T_da747_row9_col4, #T_da747_row9_col5, #T_da747_row9_col6, #T_da747_row9_col7, #T_da747_row10_col0, #T_da747_row10_col1, #T_da747_row10_col3, #T_da747_row10_col4, #T_da747_row10_col5, #T_da747_row10_col6, #T_da747_row10_col7, #T_da747_row11_col0, #T_da747_row11_col1, #T_da747_row11_col3, #T_da747_row11_col4, #T_da747_row11_col5, #T_da747_row11_col6, #T_da747_row11_col7, #T_da747_row12_col0, #T_da747_row12_col1, #T_da747_row12_col3, #T_da747_row12_col4, #T_da747_row12_col5, #T_da747_row12_col6, #T_da747_row12_col7, #T_da747_row13_col0, #T_da747_row13_col1, #T_da747_row13_col3, #T_da747_row13_col4, #T_da747_row13_col5, #T_da747_row13_col6, #T_da747_row13_col7 {\n",
              "  text-align: left;\n",
              "}\n",
              "#T_da747_row0_col1, #T_da747_row0_col2, #T_da747_row0_col4, #T_da747_row0_col5, #T_da747_row0_col6, #T_da747_row0_col7, #T_da747_row1_col2, #T_da747_row2_col2, #T_da747_row2_col3, #T_da747_row3_col2, #T_da747_row4_col2, #T_da747_row5_col2, #T_da747_row6_col2, #T_da747_row7_col2, #T_da747_row8_col2, #T_da747_row9_col2, #T_da747_row10_col2, #T_da747_row11_col2, #T_da747_row12_col2, #T_da747_row13_col2 {\n",
              "  text-align: left;\n",
              "  background-color: yellow;\n",
              "}\n",
              "#T_da747_row0_col8, #T_da747_row1_col8, #T_da747_row2_col8, #T_da747_row3_col8, #T_da747_row4_col8, #T_da747_row5_col8, #T_da747_row6_col8, #T_da747_row9_col8, #T_da747_row11_col8, #T_da747_row12_col8 {\n",
              "  text-align: left;\n",
              "  background-color: lightgrey;\n",
              "}\n",
              "#T_da747_row7_col8, #T_da747_row8_col8, #T_da747_row10_col8, #T_da747_row13_col8 {\n",
              "  text-align: left;\n",
              "  background-color: yellow;\n",
              "  background-color: lightgrey;\n",
              "}\n",
              "</style>\n",
              "<table id=\"T_da747\">\n",
              "  <thead>\n",
              "    <tr>\n",
              "      <th class=\"blank level0\" >&nbsp;</th>\n",
              "      <th id=\"T_da747_level0_col0\" class=\"col_heading level0 col0\" >Model</th>\n",
              "      <th id=\"T_da747_level0_col1\" class=\"col_heading level0 col1\" >Accuracy</th>\n",
              "      <th id=\"T_da747_level0_col2\" class=\"col_heading level0 col2\" >AUC</th>\n",
              "      <th id=\"T_da747_level0_col3\" class=\"col_heading level0 col3\" >Recall</th>\n",
              "      <th id=\"T_da747_level0_col4\" class=\"col_heading level0 col4\" >Prec.</th>\n",
              "      <th id=\"T_da747_level0_col5\" class=\"col_heading level0 col5\" >F1</th>\n",
              "      <th id=\"T_da747_level0_col6\" class=\"col_heading level0 col6\" >Kappa</th>\n",
              "      <th id=\"T_da747_level0_col7\" class=\"col_heading level0 col7\" >MCC</th>\n",
              "      <th id=\"T_da747_level0_col8\" class=\"col_heading level0 col8\" >TT (Sec)</th>\n",
              "    </tr>\n",
              "  </thead>\n",
              "  <tbody>\n",
              "    <tr>\n",
              "      <th id=\"T_da747_level0_row0\" class=\"row_heading level0 row0\" >rf</th>\n",
              "      <td id=\"T_da747_row0_col0\" class=\"data row0 col0\" >Random Forest Classifier</td>\n",
              "      <td id=\"T_da747_row0_col1\" class=\"data row0 col1\" >0.9731</td>\n",
              "      <td id=\"T_da747_row0_col2\" class=\"data row0 col2\" >0.0000</td>\n",
              "      <td id=\"T_da747_row0_col3\" class=\"data row0 col3\" >0.7887</td>\n",
              "      <td id=\"T_da747_row0_col4\" class=\"data row0 col4\" >0.9211</td>\n",
              "      <td id=\"T_da747_row0_col5\" class=\"data row0 col5\" >0.8493</td>\n",
              "      <td id=\"T_da747_row0_col6\" class=\"data row0 col6\" >0.8347</td>\n",
              "      <td id=\"T_da747_row0_col7\" class=\"data row0 col7\" >0.8380</td>\n",
              "      <td id=\"T_da747_row0_col8\" class=\"data row0 col8\" >0.0310</td>\n",
              "    </tr>\n",
              "    <tr>\n",
              "      <th id=\"T_da747_level0_row1\" class=\"row_heading level0 row1\" >gbc</th>\n",
              "      <td id=\"T_da747_row1_col0\" class=\"data row1 col0\" >Gradient Boosting Classifier</td>\n",
              "      <td id=\"T_da747_row1_col1\" class=\"data row1 col1\" >0.9709</td>\n",
              "      <td id=\"T_da747_row1_col2\" class=\"data row1 col2\" >0.0000</td>\n",
              "      <td id=\"T_da747_row1_col3\" class=\"data row1 col3\" >0.7737</td>\n",
              "      <td id=\"T_da747_row1_col4\" class=\"data row1 col4\" >0.9115</td>\n",
              "      <td id=\"T_da747_row1_col5\" class=\"data row1 col5\" >0.8347</td>\n",
              "      <td id=\"T_da747_row1_col6\" class=\"data row1 col6\" >0.8189</td>\n",
              "      <td id=\"T_da747_row1_col7\" class=\"data row1 col7\" >0.8235</td>\n",
              "      <td id=\"T_da747_row1_col8\" class=\"data row1 col8\" >0.0300</td>\n",
              "    </tr>\n",
              "    <tr>\n",
              "      <th id=\"T_da747_level0_row2\" class=\"row_heading level0 row2\" >lightgbm</th>\n",
              "      <td id=\"T_da747_row2_col0\" class=\"data row2 col0\" >Light Gradient Boosting Machine</td>\n",
              "      <td id=\"T_da747_row2_col1\" class=\"data row2 col1\" >0.9706</td>\n",
              "      <td id=\"T_da747_row2_col2\" class=\"data row2 col2\" >0.0000</td>\n",
              "      <td id=\"T_da747_row2_col3\" class=\"data row2 col3\" >0.7977</td>\n",
              "      <td id=\"T_da747_row2_col4\" class=\"data row2 col4\" >0.8851</td>\n",
              "      <td id=\"T_da747_row2_col5\" class=\"data row2 col5\" >0.8383</td>\n",
              "      <td id=\"T_da747_row2_col6\" class=\"data row2 col6\" >0.8222</td>\n",
              "      <td id=\"T_da747_row2_col7\" class=\"data row2 col7\" >0.8240</td>\n",
              "      <td id=\"T_da747_row2_col8\" class=\"data row2 col8\" >0.4530</td>\n",
              "    </tr>\n",
              "    <tr>\n",
              "      <th id=\"T_da747_level0_row3\" class=\"row_heading level0 row3\" >et</th>\n",
              "      <td id=\"T_da747_row3_col0\" class=\"data row3 col0\" >Extra Trees Classifier</td>\n",
              "      <td id=\"T_da747_row3_col1\" class=\"data row3 col1\" >0.9694</td>\n",
              "      <td id=\"T_da747_row3_col2\" class=\"data row3 col2\" >0.0000</td>\n",
              "      <td id=\"T_da747_row3_col3\" class=\"data row3 col3\" >0.7648</td>\n",
              "      <td id=\"T_da747_row3_col4\" class=\"data row3 col4\" >0.9018</td>\n",
              "      <td id=\"T_da747_row3_col5\" class=\"data row3 col5\" >0.8269</td>\n",
              "      <td id=\"T_da747_row3_col6\" class=\"data row3 col6\" >0.8103</td>\n",
              "      <td id=\"T_da747_row3_col7\" class=\"data row3 col7\" >0.8140</td>\n",
              "      <td id=\"T_da747_row3_col8\" class=\"data row3 col8\" >0.0230</td>\n",
              "    </tr>\n",
              "    <tr>\n",
              "      <th id=\"T_da747_level0_row4\" class=\"row_heading level0 row4\" >dt</th>\n",
              "      <td id=\"T_da747_row4_col0\" class=\"data row4 col0\" >Decision Tree Classifier</td>\n",
              "      <td id=\"T_da747_row4_col1\" class=\"data row4 col1\" >0.9606</td>\n",
              "      <td id=\"T_da747_row4_col2\" class=\"data row4 col2\" >0.0000</td>\n",
              "      <td id=\"T_da747_row4_col3\" class=\"data row4 col3\" >0.7708</td>\n",
              "      <td id=\"T_da747_row4_col4\" class=\"data row4 col4\" >0.8120</td>\n",
              "      <td id=\"T_da747_row4_col5\" class=\"data row4 col5\" >0.7886</td>\n",
              "      <td id=\"T_da747_row4_col6\" class=\"data row4 col6\" >0.7669</td>\n",
              "      <td id=\"T_da747_row4_col7\" class=\"data row4 col7\" >0.7686</td>\n",
              "      <td id=\"T_da747_row4_col8\" class=\"data row4 col8\" >0.0080</td>\n",
              "    </tr>\n",
              "    <tr>\n",
              "      <th id=\"T_da747_level0_row5\" class=\"row_heading level0 row5\" >ada</th>\n",
              "      <td id=\"T_da747_row5_col0\" class=\"data row5 col0\" >Ada Boost Classifier</td>\n",
              "      <td id=\"T_da747_row5_col1\" class=\"data row5 col1\" >0.9586</td>\n",
              "      <td id=\"T_da747_row5_col2\" class=\"data row5 col2\" >0.0000</td>\n",
              "      <td id=\"T_da747_row5_col3\" class=\"data row5 col3\" >0.6990</td>\n",
              "      <td id=\"T_da747_row5_col4\" class=\"data row5 col4\" >0.8410</td>\n",
              "      <td id=\"T_da747_row5_col5\" class=\"data row5 col5\" >0.7607</td>\n",
              "      <td id=\"T_da747_row5_col6\" class=\"data row5 col6\" >0.7383</td>\n",
              "      <td id=\"T_da747_row5_col7\" class=\"data row5 col7\" >0.7437</td>\n",
              "      <td id=\"T_da747_row5_col8\" class=\"data row5 col8\" >0.0150</td>\n",
              "    </tr>\n",
              "    <tr>\n",
              "      <th id=\"T_da747_level0_row6\" class=\"row_heading level0 row6\" >lr</th>\n",
              "      <td id=\"T_da747_row6_col0\" class=\"data row6 col0\" >Logistic Regression</td>\n",
              "      <td id=\"T_da747_row6_col1\" class=\"data row6 col1\" >0.9557</td>\n",
              "      <td id=\"T_da747_row6_col2\" class=\"data row6 col2\" >0.0000</td>\n",
              "      <td id=\"T_da747_row6_col3\" class=\"data row6 col3\" >0.6278</td>\n",
              "      <td id=\"T_da747_row6_col4\" class=\"data row6 col4\" >0.8774</td>\n",
              "      <td id=\"T_da747_row6_col5\" class=\"data row6 col5\" >0.7291</td>\n",
              "      <td id=\"T_da747_row6_col6\" class=\"data row6 col6\" >0.7059</td>\n",
              "      <td id=\"T_da747_row6_col7\" class=\"data row6 col7\" >0.7191</td>\n",
              "      <td id=\"T_da747_row6_col8\" class=\"data row6 col8\" >0.1650</td>\n",
              "    </tr>\n",
              "    <tr>\n",
              "      <th id=\"T_da747_level0_row7\" class=\"row_heading level0 row7\" >lda</th>\n",
              "      <td id=\"T_da747_row7_col0\" class=\"data row7 col0\" >Linear Discriminant Analysis</td>\n",
              "      <td id=\"T_da747_row7_col1\" class=\"data row7 col1\" >0.9380</td>\n",
              "      <td id=\"T_da747_row7_col2\" class=\"data row7 col2\" >0.0000</td>\n",
              "      <td id=\"T_da747_row7_col3\" class=\"data row7 col3\" >0.5771</td>\n",
              "      <td id=\"T_da747_row7_col4\" class=\"data row7 col4\" >0.7234</td>\n",
              "      <td id=\"T_da747_row7_col5\" class=\"data row7 col5\" >0.6402</td>\n",
              "      <td id=\"T_da747_row7_col6\" class=\"data row7 col6\" >0.6068</td>\n",
              "      <td id=\"T_da747_row7_col7\" class=\"data row7 col7\" >0.6125</td>\n",
              "      <td id=\"T_da747_row7_col8\" class=\"data row7 col8\" >0.0070</td>\n",
              "    </tr>\n",
              "    <tr>\n",
              "      <th id=\"T_da747_level0_row8\" class=\"row_heading level0 row8\" >ridge</th>\n",
              "      <td id=\"T_da747_row8_col0\" class=\"data row8 col0\" >Ridge Classifier</td>\n",
              "      <td id=\"T_da747_row8_col1\" class=\"data row8 col1\" >0.9334</td>\n",
              "      <td id=\"T_da747_row8_col2\" class=\"data row8 col2\" >0.0000</td>\n",
              "      <td id=\"T_da747_row8_col3\" class=\"data row8 col3\" >0.3389</td>\n",
              "      <td id=\"T_da747_row8_col4\" class=\"data row8 col4\" >0.9115</td>\n",
              "      <td id=\"T_da747_row8_col5\" class=\"data row8 col5\" >0.4907</td>\n",
              "      <td id=\"T_da747_row8_col6\" class=\"data row8 col6\" >0.4634</td>\n",
              "      <td id=\"T_da747_row8_col7\" class=\"data row8 col7\" >0.5305</td>\n",
              "      <td id=\"T_da747_row8_col8\" class=\"data row8 col8\" >0.0070</td>\n",
              "    </tr>\n",
              "    <tr>\n",
              "      <th id=\"T_da747_level0_row9\" class=\"row_heading level0 row9\" >knn</th>\n",
              "      <td id=\"T_da747_row9_col0\" class=\"data row9 col0\" >K Neighbors Classifier</td>\n",
              "      <td id=\"T_da747_row9_col1\" class=\"data row9 col1\" >0.9189</td>\n",
              "      <td id=\"T_da747_row9_col2\" class=\"data row9 col2\" >0.0000</td>\n",
              "      <td id=\"T_da747_row9_col3\" class=\"data row9 col3\" >0.3833</td>\n",
              "      <td id=\"T_da747_row9_col4\" class=\"data row9 col4\" >0.6273</td>\n",
              "      <td id=\"T_da747_row9_col5\" class=\"data row9 col5\" >0.4732</td>\n",
              "      <td id=\"T_da747_row9_col6\" class=\"data row9 col6\" >0.4323</td>\n",
              "      <td id=\"T_da747_row9_col7\" class=\"data row9 col7\" >0.4490</td>\n",
              "      <td id=\"T_da747_row9_col8\" class=\"data row9 col8\" >0.0110</td>\n",
              "    </tr>\n",
              "    <tr>\n",
              "      <th id=\"T_da747_level0_row10\" class=\"row_heading level0 row10\" >dummy</th>\n",
              "      <td id=\"T_da747_row10_col0\" class=\"data row10 col0\" >Dummy Classifier</td>\n",
              "      <td id=\"T_da747_row10_col1\" class=\"data row10 col1\" >0.9040</td>\n",
              "      <td id=\"T_da747_row10_col2\" class=\"data row10 col2\" >0.0000</td>\n",
              "      <td id=\"T_da747_row10_col3\" class=\"data row10 col3\" >0.0000</td>\n",
              "      <td id=\"T_da747_row10_col4\" class=\"data row10 col4\" >0.0000</td>\n",
              "      <td id=\"T_da747_row10_col5\" class=\"data row10 col5\" >0.0000</td>\n",
              "      <td id=\"T_da747_row10_col6\" class=\"data row10 col6\" >0.0000</td>\n",
              "      <td id=\"T_da747_row10_col7\" class=\"data row10 col7\" >0.0000</td>\n",
              "      <td id=\"T_da747_row10_col8\" class=\"data row10 col8\" >0.0070</td>\n",
              "    </tr>\n",
              "    <tr>\n",
              "      <th id=\"T_da747_level0_row11\" class=\"row_heading level0 row11\" >nb</th>\n",
              "      <td id=\"T_da747_row11_col0\" class=\"data row11 col0\" >Naive Bayes</td>\n",
              "      <td id=\"T_da747_row11_col1\" class=\"data row11 col1\" >0.8931</td>\n",
              "      <td id=\"T_da747_row11_col2\" class=\"data row11 col2\" >0.0000</td>\n",
              "      <td id=\"T_da747_row11_col3\" class=\"data row11 col3\" >0.6069</td>\n",
              "      <td id=\"T_da747_row11_col4\" class=\"data row11 col4\" >0.4599</td>\n",
              "      <td id=\"T_da747_row11_col5\" class=\"data row11 col5\" >0.5216</td>\n",
              "      <td id=\"T_da747_row11_col6\" class=\"data row11 col6\" >0.4630</td>\n",
              "      <td id=\"T_da747_row11_col7\" class=\"data row11 col7\" >0.4696</td>\n",
              "      <td id=\"T_da747_row11_col8\" class=\"data row11 col8\" >0.0080</td>\n",
              "    </tr>\n",
              "    <tr>\n",
              "      <th id=\"T_da747_level0_row12\" class=\"row_heading level0 row12\" >svm</th>\n",
              "      <td id=\"T_da747_row12_col0\" class=\"data row12 col0\" >SVM - Linear Kernel</td>\n",
              "      <td id=\"T_da747_row12_col1\" class=\"data row12 col1\" >0.8826</td>\n",
              "      <td id=\"T_da747_row12_col2\" class=\"data row12 col2\" >0.0000</td>\n",
              "      <td id=\"T_da747_row12_col3\" class=\"data row12 col3\" >0.4096</td>\n",
              "      <td id=\"T_da747_row12_col4\" class=\"data row12 col4\" >0.4251</td>\n",
              "      <td id=\"T_da747_row12_col5\" class=\"data row12 col5\" >0.3360</td>\n",
              "      <td id=\"T_da747_row12_col6\" class=\"data row12 col6\" >0.2914</td>\n",
              "      <td id=\"T_da747_row12_col7\" class=\"data row12 col7\" >0.3296</td>\n",
              "      <td id=\"T_da747_row12_col8\" class=\"data row12 col8\" >0.0080</td>\n",
              "    </tr>\n",
              "    <tr>\n",
              "      <th id=\"T_da747_level0_row13\" class=\"row_heading level0 row13\" >qda</th>\n",
              "      <td id=\"T_da747_row13_col0\" class=\"data row13 col0\" >Quadratic Discriminant Analysis</td>\n",
              "      <td id=\"T_da747_row13_col1\" class=\"data row13 col1\" >0.8029</td>\n",
              "      <td id=\"T_da747_row13_col2\" class=\"data row13 col2\" >0.0000</td>\n",
              "      <td id=\"T_da747_row13_col3\" class=\"data row13 col3\" >0.6025</td>\n",
              "      <td id=\"T_da747_row13_col4\" class=\"data row13 col4\" >0.3855</td>\n",
              "      <td id=\"T_da747_row13_col5\" class=\"data row13 col5\" >0.4299</td>\n",
              "      <td id=\"T_da747_row13_col6\" class=\"data row13 col6\" >0.3595</td>\n",
              "      <td id=\"T_da747_row13_col7\" class=\"data row13 col7\" >0.3732</td>\n",
              "      <td id=\"T_da747_row13_col8\" class=\"data row13 col8\" >0.0070</td>\n",
              "    </tr>\n",
              "  </tbody>\n",
              "</table>\n"
            ],
            "text/plain": [
              "<pandas.io.formats.style.Styler at 0x17a867d60>"
            ]
          },
          "metadata": {},
          "output_type": "display_data"
        },
        {
          "data": {
            "text/html": [],
            "text/plain": [
              "<IPython.core.display.HTML object>"
            ]
          },
          "metadata": {},
          "output_type": "display_data"
        }
      ],
      "source": [
        "best = compare_models()"
      ]
    },
    {
      "cell_type": "code",
      "execution_count": 15,
      "id": "3807a348-8144-4b49-bb28-081b2d0ba7be",
      "metadata": {
        "colab": {
          "base_uri": "https://localhost:8080/",
          "height": 158
        },
        "id": "3807a348-8144-4b49-bb28-081b2d0ba7be",
        "outputId": "0ed66102-e28f-46b8-d043-fa56708a9cc2"
      },
      "outputs": [
        {
          "data": {
            "application/vnd.jupyter.widget-view+json": {
              "model_id": "1c51ed8f8b95479fa2e6c9b47a7d38fd",
              "version_major": 2,
              "version_minor": 0
            },
            "text/plain": [
              "interactive(children=(ToggleButtons(description='Plot Type:', icons=('',), options=(('Pipeline Plot', 'pipelin…"
            ]
          },
          "metadata": {},
          "output_type": "display_data"
        },
        {
          "data": {
            "text/html": [],
            "text/plain": [
              "<IPython.core.display.HTML object>"
            ]
          },
          "metadata": {},
          "output_type": "display_data"
        },
        {
          "data": {
            "image/png": "[encoded data removed]",
            "text/plain": [
              "<Figure size 800x550 with 1 Axes>"
            ]
          },
          "metadata": {},
          "output_type": "display_data"
        }
      ],
      "source": [
        "evaluate_model(best)\n",
        "\n",
        "plot_model(best, plot = 'auc')"
      ]
    },
    {
      "cell_type": "code",
      "execution_count": 16,
      "id": "-6cwtPFt9Kms",
      "metadata": {
        "id": "-6cwtPFt9Kms"
      },
      "outputs": [
        {
          "data": {
            "text/html": [],
            "text/plain": [
              "<IPython.core.display.HTML object>"
            ]
          },
          "metadata": {},
          "output_type": "display_data"
        },
        {
          "data": {
            "image/png": "[encoded data removed]",
            "text/plain": [
              "<Figure size 800x550 with 1 Axes>"
            ]
          },
          "metadata": {},
          "output_type": "display_data"
        }
      ],
      "source": [
        "plot_model(best, plot = 'confusion_matrix')"
      ]
    },
    {
      "cell_type": "code",
      "execution_count": 17,
      "id": "NifDcZCx9KpI",
      "metadata": {
        "id": "NifDcZCx9KpI"
      },
      "outputs": [
        {
          "data": {
            "text/html": [
              "<style type=\"text/css\">\n",
              "</style>\n",
              "<table id=\"T_69371\">\n",
              "  <thead>\n",
              "    <tr>\n",
              "      <th class=\"blank level0\" >&nbsp;</th>\n",
              "      <th id=\"T_69371_level0_col0\" class=\"col_heading level0 col0\" >Model</th>\n",
              "      <th id=\"T_69371_level0_col1\" class=\"col_heading level0 col1\" >Accuracy</th>\n",
              "      <th id=\"T_69371_level0_col2\" class=\"col_heading level0 col2\" >AUC</th>\n",
              "      <th id=\"T_69371_level0_col3\" class=\"col_heading level0 col3\" >Recall</th>\n",
              "      <th id=\"T_69371_level0_col4\" class=\"col_heading level0 col4\" >Prec.</th>\n",
              "      <th id=\"T_69371_level0_col5\" class=\"col_heading level0 col5\" >F1</th>\n",
              "      <th id=\"T_69371_level0_col6\" class=\"col_heading level0 col6\" >Kappa</th>\n",
              "      <th id=\"T_69371_level0_col7\" class=\"col_heading level0 col7\" >MCC</th>\n",
              "    </tr>\n",
              "  </thead>\n",
              "  <tbody>\n",
              "    <tr>\n",
              "      <th id=\"T_69371_level0_row0\" class=\"row_heading level0 row0\" >0</th>\n",
              "      <td id=\"T_69371_row0_col0\" class=\"data row0 col0\" >Random Forest Classifier</td>\n",
              "      <td id=\"T_69371_row0_col1\" class=\"data row0 col1\" >0.9904</td>\n",
              "      <td id=\"T_69371_row0_col2\" class=\"data row0 col2\" >0.9896</td>\n",
              "      <td id=\"T_69371_row0_col3\" class=\"data row0 col3\" >0.9354</td>\n",
              "      <td id=\"T_69371_row0_col4\" class=\"data row0 col4\" >0.9635</td>\n",
              "      <td id=\"T_69371_row0_col5\" class=\"data row0 col5\" >0.9493</td>\n",
              "      <td id=\"T_69371_row0_col6\" class=\"data row0 col6\" >0.9440</td>\n",
              "      <td id=\"T_69371_row0_col7\" class=\"data row0 col7\" >0.9441</td>\n",
              "    </tr>\n",
              "  </tbody>\n",
              "</table>\n"
            ],
            "text/plain": [
              "<pandas.io.formats.style.Styler at 0x17aa18df0>"
            ]
          },
          "metadata": {},
          "output_type": "display_data"
        },
        {
          "data": {
            "text/html": [
              "<div>\n",
              "<style scoped>\n",
              "    .dataframe tbody tr th:only-of-type {\n",
              "        vertical-align: middle;\n",
              "    }\n",
              "\n",
              "    .dataframe tbody tr th {\n",
              "        vertical-align: top;\n",
              "    }\n",
              "\n",
              "    .dataframe thead th {\n",
              "        text-align: right;\n",
              "    }\n",
              "</style>\n",
              "<table border=\"1\" class=\"dataframe\">\n",
              "  <thead>\n",
              "    <tr style=\"text-align: right;\">\n",
              "      <th></th>\n",
              "      <th>ID</th>\n",
              "      <th>Age</th>\n",
              "      <th>Experience</th>\n",
              "      <th>Income</th>\n",
              "      <th>ZIP.Code</th>\n",
              "      <th>Family</th>\n",
              "      <th>CCAvg</th>\n",
              "      <th>Education</th>\n",
              "      <th>Mortgage</th>\n",
              "      <th>Securities.Account</th>\n",
              "      <th>CD.Account</th>\n",
              "      <th>Online</th>\n",
              "      <th>CreditCard</th>\n",
              "      <th>zipCodeCity</th>\n",
              "      <th>zipCodeState</th>\n",
              "      <th>Personal.Loan</th>\n",
              "      <th>prediction_label</th>\n",
              "      <th>prediction_score</th>\n",
              "    </tr>\n",
              "  </thead>\n",
              "  <tbody>\n",
              "    <tr>\n",
              "      <th>0</th>\n",
              "      <td>1</td>\n",
              "      <td>25</td>\n",
              "      <td>1</td>\n",
              "      <td>49</td>\n",
              "      <td>91107</td>\n",
              "      <td>4</td>\n",
              "      <td>1.6</td>\n",
              "      <td>1</td>\n",
              "      <td>0</td>\n",
              "      <td>1</td>\n",
              "      <td>0</td>\n",
              "      <td>0</td>\n",
              "      <td>0</td>\n",
              "      <td>Pasadena</td>\n",
              "      <td>CA</td>\n",
              "      <td>0</td>\n",
              "      <td>0</td>\n",
              "      <td>1.0</td>\n",
              "    </tr>\n",
              "    <tr>\n",
              "      <th>1</th>\n",
              "      <td>2</td>\n",
              "      <td>45</td>\n",
              "      <td>19</td>\n",
              "      <td>34</td>\n",
              "      <td>90089</td>\n",
              "      <td>3</td>\n",
              "      <td>1.5</td>\n",
              "      <td>1</td>\n",
              "      <td>0</td>\n",
              "      <td>1</td>\n",
              "      <td>0</td>\n",
              "      <td>0</td>\n",
              "      <td>0</td>\n",
              "      <td>Los Angeles</td>\n",
              "      <td>CA</td>\n",
              "      <td>0</td>\n",
              "      <td>0</td>\n",
              "      <td>1.0</td>\n",
              "    </tr>\n",
              "    <tr>\n",
              "      <th>2</th>\n",
              "      <td>3</td>\n",
              "      <td>39</td>\n",
              "      <td>15</td>\n",
              "      <td>11</td>\n",
              "      <td>94720</td>\n",
              "      <td>1</td>\n",
              "      <td>1.0</td>\n",
              "      <td>1</td>\n",
              "      <td>0</td>\n",
              "      <td>0</td>\n",
              "      <td>0</td>\n",
              "      <td>0</td>\n",
              "      <td>0</td>\n",
              "      <td>Berkeley</td>\n",
              "      <td>CA</td>\n",
              "      <td>0</td>\n",
              "      <td>0</td>\n",
              "      <td>1.0</td>\n",
              "    </tr>\n",
              "    <tr>\n",
              "      <th>3</th>\n",
              "      <td>4</td>\n",
              "      <td>35</td>\n",
              "      <td>9</td>\n",
              "      <td>100</td>\n",
              "      <td>94112</td>\n",
              "      <td>1</td>\n",
              "      <td>2.7</td>\n",
              "      <td>2</td>\n",
              "      <td>0</td>\n",
              "      <td>0</td>\n",
              "      <td>0</td>\n",
              "      <td>0</td>\n",
              "      <td>0</td>\n",
              "      <td>San Francisco</td>\n",
              "      <td>CA</td>\n",
              "      <td>0</td>\n",
              "      <td>0</td>\n",
              "      <td>1.0</td>\n",
              "    </tr>\n",
              "    <tr>\n",
              "      <th>4</th>\n",
              "      <td>5</td>\n",
              "      <td>35</td>\n",
              "      <td>8</td>\n",
              "      <td>45</td>\n",
              "      <td>91330</td>\n",
              "      <td>4</td>\n",
              "      <td>1.0</td>\n",
              "      <td>2</td>\n",
              "      <td>0</td>\n",
              "      <td>0</td>\n",
              "      <td>0</td>\n",
              "      <td>0</td>\n",
              "      <td>1</td>\n",
              "      <td>Northridge</td>\n",
              "      <td>CA</td>\n",
              "      <td>0</td>\n",
              "      <td>0</td>\n",
              "      <td>1.0</td>\n",
              "    </tr>\n",
              "  </tbody>\n",
              "</table>\n",
              "</div>"
            ],
            "text/plain": [
              "   ID  Age  Experience  Income  ZIP.Code  Family  CCAvg  Education  Mortgage  \\\n",
              "0   1   25           1      49     91107       4    1.6          1         0   \n",
              "1   2   45          19      34     90089       3    1.5          1         0   \n",
              "2   3   39          15      11     94720       1    1.0          1         0   \n",
              "3   4   35           9     100     94112       1    2.7          2         0   \n",
              "4   5   35           8      45     91330       4    1.0          2         0   \n",
              "\n",
              "   Securities.Account  CD.Account  Online  CreditCard    zipCodeCity  \\\n",
              "0                   1           0       0           0       Pasadena   \n",
              "1                   1           0       0           0    Los Angeles   \n",
              "2                   0           0       0           0       Berkeley   \n",
              "3                   0           0       0           0  San Francisco   \n",
              "4                   0           0       0           1     Northridge   \n",
              "\n",
              "  zipCodeState  Personal.Loan  prediction_label  prediction_score  \n",
              "0           CA              0                 0               1.0  \n",
              "1           CA              0                 0               1.0  \n",
              "2           CA              0                 0               1.0  \n",
              "3           CA              0                 0               1.0  \n",
              "4           CA              0                 0               1.0  "
            ]
          },
          "execution_count": 17,
          "metadata": {},
          "output_type": "execute_result"
        }
      ],
      "source": [
        "predictions = predict_model(best, data=df)\n",
        "predictions.head()"
      ]
    },
    {
      "cell_type": "code",
      "execution_count": 18,
      "id": "9ljaNKQ29KrK",
      "metadata": {
        "id": "9ljaNKQ29KrK"
      },
      "outputs": [
        {
          "name": "stdout",
          "output_type": "stream",
          "text": [
            "Transformation Pipeline and Model Successfully Saved\n"
          ]
        },
        {
          "data": {
            "text/plain": [
              "(Pipeline(memory=Memory(location=None),\n",
              "          steps=[('numerical_imputer',\n",
              "                  TransformerWrapper(exclude=None,\n",
              "                                     include=['Income', 'CCAvg', 'Mortgage'],\n",
              "                                     transformer=SimpleImputer(add_indicator=False,\n",
              "                                                               copy=True,\n",
              "                                                               fill_value=None,\n",
              "                                                               keep_empty_features=False,\n",
              "                                                               missing_values=nan,\n",
              "                                                               strategy='mean'))),\n",
              "                 ('categorical_imputer',\n",
              "                  TransformerWrapper(exclude=None,\n",
              "                                     include=['Education', 'C...\n",
              "                  RandomForestClassifier(bootstrap=True, ccp_alpha=0.0,\n",
              "                                         class_weight=None, criterion='gini',\n",
              "                                         max_depth=None, max_features='sqrt',\n",
              "                                         max_leaf_nodes=None, max_samples=None,\n",
              "                                         min_impurity_decrease=0.0,\n",
              "                                         min_samples_leaf=1, min_samples_split=2,\n",
              "                                         min_weight_fraction_leaf=0.0,\n",
              "                                         monotonic_cst=None, n_estimators=100,\n",
              "                                         n_jobs=-1, oob_score=False,\n",
              "                                         random_state=123, verbose=0,\n",
              "                                         warm_start=False))],\n",
              "          verbose=False),\n",
              " 'RandomForestClassifier.pkl')"
            ]
          },
          "execution_count": 18,
          "metadata": {},
          "output_type": "execute_result"
        }
      ],
      "source": [
        "save_model(best, 'RandomForestClassifier')"
      ]
    },
    {
      "cell_type": "markdown",
      "id": "aVDGrCZ5BOKg",
      "metadata": {
        "id": "aVDGrCZ5BOKg"
      },
      "source": [
        "### Agrupaciones de Datos\n",
        "\n",
        "Para esta parte del proyecto queremos profundizar en las variables significativas que cuenten con agrupaciones y ver sus desempeños frente al modelo propuesto en la parte anterior."
      ]
    },
    {
      "cell_type": "markdown",
      "id": "sx5rnpX2G8vy",
      "metadata": {
        "id": "sx5rnpX2G8vy"
      },
      "source": [
        "##### Ingresos"
      ]
    },
    {
      "cell_type": "code",
      "execution_count": 19,
      "id": "ImZg3Bd1Gmrb",
      "metadata": {
        "id": "ImZg3Bd1Gmrb"
      },
      "outputs": [],
      "source": [
        "with open('RandomForestClassifier.pkl', 'rb') as archivo:\n",
        "    modelo = pickle.load(archivo)"
      ]
    },
    {
      "cell_type": "code",
      "execution_count": 20,
      "id": "_3srhYrlGmzM",
      "metadata": {
        "id": "_3srhYrlGmzM"
      },
      "outputs": [
        {
          "name": "stdout",
          "output_type": "stream",
          "text": [
            "        ID  Income Income_Group\n",
            "0        1      49      Grupo 2\n",
            "1        2      34      Grupo 1\n",
            "2        3      11      Grupo 1\n",
            "3        4     100      Grupo 3\n",
            "4        5      45      Grupo 2\n",
            "...    ...     ...          ...\n",
            "4995  4996      40      Grupo 1\n",
            "4996  4997      15      Grupo 1\n",
            "4997  4998      24      Grupo 1\n",
            "4998  4999      49      Grupo 2\n",
            "4999  5000      83      Grupo 3\n",
            "\n",
            "[5000 rows x 3 columns]\n"
          ]
        }
      ],
      "source": [
        "bins = [8, 44, 80, 116, 152, 188, 224]\n",
        "\n",
        "df[\"Income_Group\"] = pd.cut(df[\"Income\"], bins = bins, labels = ['Grupo 1', 'Grupo 2', 'Grupo 3', 'Grupo 4', 'Grupo 5', 'Grupo 6'])\n",
        "\n",
        "print(df[['ID', 'Income', 'Income_Group']])"
      ]
    },
    {
      "cell_type": "code",
      "execution_count": 21,
      "id": "RtxIw6pwG_LW",
      "metadata": {
        "id": "RtxIw6pwG_LW"
      },
      "outputs": [
        {
          "name": "stdout",
          "output_type": "stream",
          "text": [
            "Grupo de Ingresos: Grupo 1\n",
            "Reporte de clasificación:\n",
            "              precision    recall  f1-score   support\n",
            "\n",
            "           0       1.00      1.00      1.00       337\n",
            "\n",
            "    accuracy                           1.00       337\n",
            "   macro avg       1.00      1.00      1.00       337\n",
            "weighted avg       1.00      1.00      1.00       337\n",
            "\n",
            "Matriz de confusión:\n",
            "[[337]]\n",
            "\n",
            "\n",
            "Grupo de Ingresos: Grupo 2\n",
            "Reporte de clasificación:\n",
            "              precision    recall  f1-score   support\n",
            "\n",
            "           0       1.00      1.00      1.00       285\n",
            "\n",
            "    accuracy                           1.00       285\n",
            "   macro avg       1.00      1.00      1.00       285\n",
            "weighted avg       1.00      1.00      1.00       285\n",
            "\n",
            "Matriz de confusión:\n",
            "[[285]]\n",
            "\n",
            "\n",
            "Grupo de Ingresos: Grupo 3\n",
            "Reporte de clasificación:\n",
            "              precision    recall  f1-score   support\n",
            "\n",
            "           0       0.98      0.99      0.98       169\n",
            "           1       0.89      0.81      0.85        21\n",
            "\n",
            "    accuracy                           0.97       190\n",
            "   macro avg       0.94      0.90      0.92       190\n",
            "weighted avg       0.97      0.97      0.97       190\n",
            "\n",
            "Matriz de confusión:\n",
            "[[167   2]\n",
            " [  4  17]]\n",
            "\n",
            "\n",
            "Grupo de Ingresos: Grupo 4\n",
            "Reporte de clasificación:\n",
            "              precision    recall  f1-score   support\n",
            "\n",
            "           0       0.99      1.00      0.99        71\n",
            "           1       1.00      0.97      0.98        29\n",
            "\n",
            "    accuracy                           0.99       100\n",
            "   macro avg       0.99      0.98      0.99       100\n",
            "weighted avg       0.99      0.99      0.99       100\n",
            "\n",
            "Matriz de confusión:\n",
            "[[71  0]\n",
            " [ 1 28]]\n",
            "\n",
            "\n",
            "Grupo de Ingresos: Grupo 5\n",
            "Reporte de clasificación:\n",
            "              precision    recall  f1-score   support\n",
            "\n",
            "           0       0.94      1.00      0.97        33\n",
            "           1       1.00      0.94      0.97        35\n",
            "\n",
            "    accuracy                           0.97        68\n",
            "   macro avg       0.97      0.97      0.97        68\n",
            "weighted avg       0.97      0.97      0.97        68\n",
            "\n",
            "Matriz de confusión:\n",
            "[[33  0]\n",
            " [ 2 33]]\n",
            "\n",
            "\n",
            "Grupo de Ingresos: Grupo 6\n",
            "Reporte de clasificación:\n",
            "              precision    recall  f1-score   support\n",
            "\n",
            "           0       1.00      1.00      1.00        12\n",
            "           1       1.00      1.00      1.00         6\n",
            "\n",
            "    accuracy                           1.00        18\n",
            "   macro avg       1.00      1.00      1.00        18\n",
            "weighted avg       1.00      1.00      1.00        18\n",
            "\n",
            "Matriz de confusión:\n",
            "[[12  0]\n",
            " [ 0  6]]\n",
            "\n",
            "\n"
          ]
        }
      ],
      "source": [
        "# Cargar el modelo desde el archivo .pkl\n",
        "modelo = joblib.load('RandomForestClassifier.pkl')\n",
        "\n",
        "# Iterar sobre cada grupo de datos (cada grupo de experiencia laboral)\n",
        "for grupo, datos_grupo in df.groupby('Income_Group'):\n",
        "    print(\"Grupo de Ingresos:\", grupo)\n",
        "\n",
        "    # Dividir los datos del grupo en características y variable objetivo\n",
        "    X_grupo = datos_grupo[['Income', 'CCAvg', 'Education', 'Mortgage', 'CD.Account']]\n",
        "    y_grupo = datos_grupo['Personal.Loan']\n",
        "\n",
        "    # Dividir los datos del grupo en entrenamiento y prueba\n",
        "    X_train, X_test, y_train, y_test = train_test_split(X_grupo, y_grupo, test_size=0.2, random_state=42)\n",
        "\n",
        "    # Hacer predicciones en el conjunto de prueba\n",
        "    predicciones = modelo.predict(X_test)\n",
        "\n",
        "    # Calcular métricas de evaluación\n",
        "    reporte = classification_report(y_test, predicciones)\n",
        "    print(\"Reporte de clasificación:\")\n",
        "    print(reporte)\n",
        "\n",
        "    # Generar matriz de confusión\n",
        "    matriz_confusion = confusion_matrix(y_test, predicciones)\n",
        "    print(\"Matriz de confusión:\")\n",
        "    print(matriz_confusion)\n",
        "    print(\"\\n\")"
      ]
    },
    {
      "cell_type": "markdown",
      "id": "8nfmZt_HG_lQ",
      "metadata": {
        "id": "8nfmZt_HG_lQ"
      },
      "source": [
        "##### Educación"
      ]
    },
    {
      "cell_type": "code",
      "execution_count": 22,
      "id": "LjCoGQTkGm2p",
      "metadata": {
        "id": "LjCoGQTkGm2p"
      },
      "outputs": [
        {
          "name": "stdout",
          "output_type": "stream",
          "text": [
            "Education: 1\n",
            "Reporte de clasificación:\n",
            "              precision    recall  f1-score   support\n",
            "\n",
            "           0       0.99      1.00      0.99       395\n",
            "           1       0.95      0.84      0.89        25\n",
            "\n",
            "    accuracy                           0.99       420\n",
            "   macro avg       0.97      0.92      0.94       420\n",
            "weighted avg       0.99      0.99      0.99       420\n",
            "\n",
            "Matriz de confusión:\n",
            "[[394   1]\n",
            " [  4  21]]\n",
            "\n",
            "\n",
            "Education: 2\n",
            "Reporte de clasificación:\n",
            "              precision    recall  f1-score   support\n",
            "\n",
            "           0       1.00      1.00      1.00       243\n",
            "           1       0.97      1.00      0.99        38\n",
            "\n",
            "    accuracy                           1.00       281\n",
            "   macro avg       0.99      1.00      0.99       281\n",
            "weighted avg       1.00      1.00      1.00       281\n",
            "\n",
            "Matriz de confusión:\n",
            "[[242   1]\n",
            " [  0  38]]\n",
            "\n",
            "\n",
            "Education: 3\n",
            "Reporte de clasificación:\n",
            "              precision    recall  f1-score   support\n",
            "\n",
            "           0       1.00      1.00      1.00       260\n",
            "           1       1.00      0.98      0.99        41\n",
            "\n",
            "    accuracy                           1.00       301\n",
            "   macro avg       1.00      0.99      0.99       301\n",
            "weighted avg       1.00      1.00      1.00       301\n",
            "\n",
            "Matriz de confusión:\n",
            "[[260   0]\n",
            " [  1  40]]\n",
            "\n",
            "\n"
          ]
        }
      ],
      "source": [
        "# Iterar sobre cada grupo de datos (cada rango de edad)\n",
        "for grupo, datos_grupo in df.groupby('Education'):\n",
        "    print(\"Education:\", grupo)\n",
        "\n",
        "    # Dividir los datos del grupo en características y variable objetivo\n",
        "    X_grupo = datos_grupo[['Income', 'CCAvg', 'Education', 'Mortgage', 'CD.Account']]\n",
        "    y_grupo = datos_grupo['Personal.Loan']\n",
        "\n",
        "    # Dividir los datos del grupo en entrenamiento y prueba\n",
        "    X_train, X_test, y_train, y_test = train_test_split(X_grupo, y_grupo, test_size=0.2, random_state=42)\n",
        "\n",
        "    # Hacer predicciones en el conjunto de prueba\n",
        "    predicciones = modelo.predict(X_test)\n",
        "\n",
        "    # Calcular métricas de evaluación\n",
        "    reporte = classification_report(y_test, predicciones)\n",
        "    print(\"Reporte de clasificación:\")\n",
        "    print(reporte)\n",
        "\n",
        "    # Generar matriz de confusión\n",
        "    matriz_confusion = confusion_matrix(y_test, predicciones)\n",
        "    print(\"Matriz de confusión:\")\n",
        "    print(matriz_confusion)\n",
        "    print(\"\\n\")"
      ]
    },
    {
      "cell_type": "markdown",
      "id": "SfA_0OCzHEDT",
      "metadata": {
        "id": "SfA_0OCzHEDT"
      },
      "source": [
        "##### Edad"
      ]
    },
    {
      "cell_type": "code",
      "execution_count": 23,
      "id": "90vS0m3bGm6b",
      "metadata": {
        "id": "90vS0m3bGm6b"
      },
      "outputs": [
        {
          "name": "stdout",
          "output_type": "stream",
          "text": [
            "Rango de Edad\n",
            "21-30     488\n",
            "31-40    1247\n",
            "41-50    1257\n",
            "51-60    1334\n",
            "61+       674\n",
            "dtype: int64\n"
          ]
        }
      ],
      "source": [
        "# Definir los límites de los rangos de edad\n",
        "bins = [20, 30, 40, 50, 60, float('inf')]  # Rangos de edad: 0-20, 21-30, 31-40, 41-50, 51-60, 60+\n",
        "\n",
        "# Definir los nombres de las categorías\n",
        "labels = ['21-30', '31-40', '41-50', '51-60', '61+']\n",
        "\n",
        "# Crear una nueva columna en el DataFrame que contenga los rangos de edad\n",
        "df['Rango de Edad'] = pd.cut(df['Age'], bins=bins, labels=labels, right=False)\n",
        "\n",
        "# Agrupar los datos por los rangos de edad\n",
        "grupo_por_edad = df.groupby('Rango de Edad').size()\n",
        "\n",
        "print(grupo_por_edad)"
      ]
    },
    {
      "cell_type": "code",
      "execution_count": 24,
      "id": "raZMH2h0GnAD",
      "metadata": {
        "id": "raZMH2h0GnAD"
      },
      "outputs": [
        {
          "name": "stdout",
          "output_type": "stream",
          "text": [
            "Rango de Edad: 21-30\n",
            "Reporte de clasificación:\n",
            "              precision    recall  f1-score   support\n",
            "\n",
            "           0       0.99      1.00      0.99        88\n",
            "           1       1.00      0.90      0.95        10\n",
            "\n",
            "    accuracy                           0.99        98\n",
            "   macro avg       0.99      0.95      0.97        98\n",
            "weighted avg       0.99      0.99      0.99        98\n",
            "\n",
            "Matriz de confusión:\n",
            "[[88  0]\n",
            " [ 1  9]]\n",
            "\n",
            "\n",
            "Rango de Edad: 31-40\n",
            "Reporte de clasificación:\n",
            "              precision    recall  f1-score   support\n",
            "\n",
            "           0       0.99      1.00      1.00       224\n",
            "           1       1.00      0.92      0.96        26\n",
            "\n",
            "    accuracy                           0.99       250\n",
            "   macro avg       1.00      0.96      0.98       250\n",
            "weighted avg       0.99      0.99      0.99       250\n",
            "\n",
            "Matriz de confusión:\n",
            "[[224   0]\n",
            " [  2  24]]\n",
            "\n",
            "\n",
            "Rango de Edad: 41-50\n",
            "Reporte de clasificación:\n",
            "              precision    recall  f1-score   support\n",
            "\n",
            "           0       0.99      1.00      1.00       240\n",
            "           1       1.00      0.83      0.91        12\n",
            "\n",
            "    accuracy                           0.99       252\n",
            "   macro avg       1.00      0.92      0.95       252\n",
            "weighted avg       0.99      0.99      0.99       252\n",
            "\n",
            "Matriz de confusión:\n",
            "[[240   0]\n",
            " [  2  10]]\n",
            "\n",
            "\n",
            "Rango de Edad: 51-60\n",
            "Reporte de clasificación:\n",
            "              precision    recall  f1-score   support\n",
            "\n",
            "           0       1.00      0.99      1.00       246\n",
            "           1       0.91      1.00      0.95        21\n",
            "\n",
            "    accuracy                           0.99       267\n",
            "   macro avg       0.96      1.00      0.98       267\n",
            "weighted avg       0.99      0.99      0.99       267\n",
            "\n",
            "Matriz de confusión:\n",
            "[[244   2]\n",
            " [  0  21]]\n",
            "\n",
            "\n",
            "Rango de Edad: 61+\n",
            "Reporte de clasificación:\n",
            "              precision    recall  f1-score   support\n",
            "\n",
            "           0       0.98      1.00      0.99       114\n",
            "           1       1.00      0.90      0.95        21\n",
            "\n",
            "    accuracy                           0.99       135\n",
            "   macro avg       0.99      0.95      0.97       135\n",
            "weighted avg       0.99      0.99      0.98       135\n",
            "\n",
            "Matriz de confusión:\n",
            "[[114   0]\n",
            " [  2  19]]\n",
            "\n",
            "\n"
          ]
        }
      ],
      "source": [
        "# Iterar sobre cada grupo de datos (cada rango de edad)\n",
        "for grupo, datos_grupo in df.groupby('Rango de Edad'):\n",
        "    print(\"Rango de Edad:\", grupo)\n",
        "\n",
        "    # Dividir los datos del grupo en características y variable objetivo\n",
        "    X_grupo = datos_grupo[['Income', 'CCAvg', 'Education', 'Mortgage', 'CD.Account']]\n",
        "    y_grupo = datos_grupo['Personal.Loan']\n",
        "\n",
        "    # Dividir los datos del grupo en entrenamiento y prueba\n",
        "    X_train, X_test, y_train, y_test = train_test_split(X_grupo, y_grupo, test_size=0.2, random_state=42)\n",
        "\n",
        "    # Hacer predicciones en el conjunto de prueba\n",
        "    predicciones = modelo.predict(X_test)\n",
        "\n",
        "    # Calcular métricas de evaluación\n",
        "    reporte = classification_report(y_test, predicciones)\n",
        "    print(\"Reporte de clasificación:\")\n",
        "    print(reporte)\n",
        "\n",
        "    # Generar matriz de confusión\n",
        "    matriz_confusion = confusion_matrix(y_test, predicciones)\n",
        "    print(\"Matriz de confusión:\")\n",
        "    print(matriz_confusion)\n",
        "    print(\"\\n\")"
      ]
    },
    {
      "cell_type": "markdown",
      "id": "4dac71de-7141-4e92-b18c-ce77add50a04",
      "metadata": {
        "id": "4dac71de-7141-4e92-b18c-ce77add50a04"
      },
      "source": [
        "<div id='id4'/>\n",
        "    \n",
        "## Aplicación de Técnicas Fairness"
      ]
    },
    {
      "cell_type": "code",
      "execution_count": 25,
      "id": "ed2246c2-3c0e-4594-bb87-250ef3c15624",
      "metadata": {
        "id": "ed2246c2-3c0e-4594-bb87-250ef3c15624"
      },
      "outputs": [
        {
          "name": "stdout",
          "output_type": "stream",
          "text": [
            "Selection rate: 0.0888\n",
            "Demographic parity difference: 0.11728565131143928\n"
          ]
        }
      ],
      "source": [
        "sensitive_features = X['Education']\n",
        "X_train, X_test, y_train, y_test, A_train, A_test = train_test_split(X, y, sensitive_features, random_state = 123)\n",
        "\n",
        "# Instancia un clasificador RandomForestClassifier\n",
        "clf = RandomForestClassifier()\n",
        "\n",
        "# Entrena el clasificador\n",
        "clf.fit(X_train, y_train)\n",
        "\n",
        "# Calcula la tasa de selección y la diferencia de paridad demográfica\n",
        "selection_rate_result = selection_rate(y_test, clf.predict(X_test))\n",
        "demographic_parity_difference_result = demographic_parity_difference(y_test, clf.predict(X_test), sensitive_features = A_test)\n",
        "\n",
        "# imprime los resultados\n",
        "print(f'Selection rate: {selection_rate_result}')\n",
        "print(f'Demographic parity difference: {demographic_parity_difference_result}')"
      ]
    },
    {
      "cell_type": "code",
      "execution_count": 26,
      "id": "kSAQVnDCJOC8",
      "metadata": {
        "id": "kSAQVnDCJOC8"
      },
      "outputs": [
        {
          "data": {
            "text/html": [
              "<style>#sk-container-id-1 {\n",
              "  /* Definition of color scheme common for light and dark mode */\n",
              "  --sklearn-color-text: black;\n",
              "  --sklearn-color-line: gray;\n",
              "  /* Definition of color scheme for unfitted estimators */\n",
              "  --sklearn-color-unfitted-level-0: #fff5e6;\n",
              "  --sklearn-color-unfitted-level-1: #f6e4d2;\n",
              "  --sklearn-color-unfitted-level-2: #ffe0b3;\n",
              "  --sklearn-color-unfitted-level-3: chocolate;\n",
              "  /* Definition of color scheme for fitted estimators */\n",
              "  --sklearn-color-fitted-level-0: #f0f8ff;\n",
              "  --sklearn-color-fitted-level-1: #d4ebff;\n",
              "  --sklearn-color-fitted-level-2: #b3dbfd;\n",
              "  --sklearn-color-fitted-level-3: cornflowerblue;\n",
              "\n",
              "  /* Specific color for light theme */\n",
              "  --sklearn-color-text-on-default-background: var(--sg-text-color, var(--theme-code-foreground, var(--jp-content-font-color1, black)));\n",
              "  --sklearn-color-background: var(--sg-background-color, var(--theme-background, var(--jp-layout-color0, white)));\n",
              "  --sklearn-color-border-box: var(--sg-text-color, var(--theme-code-foreground, var(--jp-content-font-color1, black)));\n",
              "  --sklearn-color-icon: #696969;\n",
              "\n",
              "  @media (prefers-color-scheme: dark) {\n",
              "    /* Redefinition of color scheme for dark theme */\n",
              "    --sklearn-color-text-on-default-background: var(--sg-text-color, var(--theme-code-foreground, var(--jp-content-font-color1, white)));\n",
              "    --sklearn-color-background: var(--sg-background-color, var(--theme-background, var(--jp-layout-color0, #111)));\n",
              "    --sklearn-color-border-box: var(--sg-text-color, var(--theme-code-foreground, var(--jp-content-font-color1, white)));\n",
              "    --sklearn-color-icon: #878787;\n",
              "  }\n",
              "}\n",
              "\n",
              "#sk-container-id-1 {\n",
              "  color: var(--sklearn-color-text);\n",
              "}\n",
              "\n",
              "#sk-container-id-1 pre {\n",
              "  padding: 0;\n",
              "}\n",
              "\n",
              "#sk-container-id-1 input.sk-hidden--visually {\n",
              "  border: 0;\n",
              "  clip: rect(1px 1px 1px 1px);\n",
              "  clip: rect(1px, 1px, 1px, 1px);\n",
              "  height: 1px;\n",
              "  margin: -1px;\n",
              "  overflow: hidden;\n",
              "  padding: 0;\n",
              "  position: absolute;\n",
              "  width: 1px;\n",
              "}\n",
              "\n",
              "#sk-container-id-1 div.sk-dashed-wrapped {\n",
              "  border: 1px dashed var(--sklearn-color-line);\n",
              "  margin: 0 0.4em 0.5em 0.4em;\n",
              "  box-sizing: border-box;\n",
              "  padding-bottom: 0.4em;\n",
              "  background-color: var(--sklearn-color-background);\n",
              "}\n",
              "\n",
              "#sk-container-id-1 div.sk-container {\n",
              "  /* jupyter's `normalize.less` sets `[hidden] { display: none; }`\n",
              "     but bootstrap.min.css set `[hidden] { display: none !important; }`\n",
              "     so we also need the `!important` here to be able to override the\n",
              "     default hidden behavior on the sphinx rendered scikit-learn.org.\n",
              "     See: https://github.com/scikit-learn/scikit-learn/issues/21755 */\n",
              "  display: inline-block !important;\n",
              "  position: relative;\n",
              "}\n",
              "\n",
              "#sk-container-id-1 div.sk-text-repr-fallback {\n",
              "  display: none;\n",
              "}\n",
              "\n",
              "div.sk-parallel-item,\n",
              "div.sk-serial,\n",
              "div.sk-item {\n",
              "  /* draw centered vertical line to link estimators */\n",
              "  background-image: linear-gradient(var(--sklearn-color-text-on-default-background), var(--sklearn-color-text-on-default-background));\n",
              "  background-size: 2px 100%;\n",
              "  background-repeat: no-repeat;\n",
              "  background-position: center center;\n",
              "}\n",
              "\n",
              "/* Parallel-specific style estimator block */\n",
              "\n",
              "#sk-container-id-1 div.sk-parallel-item::after {\n",
              "  content: \"\";\n",
              "  width: 100%;\n",
              "  border-bottom: 2px solid var(--sklearn-color-text-on-default-background);\n",
              "  flex-grow: 1;\n",
              "}\n",
              "\n",
              "#sk-container-id-1 div.sk-parallel {\n",
              "  display: flex;\n",
              "  align-items: stretch;\n",
              "  justify-content: center;\n",
              "  background-color: var(--sklearn-color-background);\n",
              "  position: relative;\n",
              "}\n",
              "\n",
              "#sk-container-id-1 div.sk-parallel-item {\n",
              "  display: flex;\n",
              "  flex-direction: column;\n",
              "}\n",
              "\n",
              "#sk-container-id-1 div.sk-parallel-item:first-child::after {\n",
              "  align-self: flex-end;\n",
              "  width: 50%;\n",
              "}\n",
              "\n",
              "#sk-container-id-1 div.sk-parallel-item:last-child::after {\n",
              "  align-self: flex-start;\n",
              "  width: 50%;\n",
              "}\n",
              "\n",
              "#sk-container-id-1 div.sk-parallel-item:only-child::after {\n",
              "  width: 0;\n",
              "}\n",
              "\n",
              "/* Serial-specific style estimator block */\n",
              "\n",
              "#sk-container-id-1 div.sk-serial {\n",
              "  display: flex;\n",
              "  flex-direction: column;\n",
              "  align-items: center;\n",
              "  background-color: var(--sklearn-color-background);\n",
              "  padding-right: 1em;\n",
              "  padding-left: 1em;\n",
              "}\n",
              "\n",
              "\n",
              "/* Toggleable style: style used for estimator/Pipeline/ColumnTransformer box that is\n",
              "clickable and can be expanded/collapsed.\n",
              "- Pipeline and ColumnTransformer use this feature and define the default style\n",
              "- Estimators will overwrite some part of the style using the `sk-estimator` class\n",
              "*/\n",
              "\n",
              "/* Pipeline and ColumnTransformer style (default) */\n",
              "\n",
              "#sk-container-id-1 div.sk-toggleable {\n",
              "  /* Default theme specific background. It is overwritten whether we have a\n",
              "  specific estimator or a Pipeline/ColumnTransformer */\n",
              "  background-color: var(--sklearn-color-background);\n",
              "}\n",
              "\n",
              "/* Toggleable label */\n",
              "#sk-container-id-1 label.sk-toggleable__label {\n",
              "  cursor: pointer;\n",
              "  display: block;\n",
              "  width: 100%;\n",
              "  margin-bottom: 0;\n",
              "  padding: 0.5em;\n",
              "  box-sizing: border-box;\n",
              "  text-align: center;\n",
              "}\n",
              "\n",
              "#sk-container-id-1 label.sk-toggleable__label-arrow:before {\n",
              "  /* Arrow on the left of the label */\n",
              "  content: \"▸\";\n",
              "  float: left;\n",
              "  margin-right: 0.25em;\n",
              "  color: var(--sklearn-color-icon);\n",
              "}\n",
              "\n",
              "#sk-container-id-1 label.sk-toggleable__label-arrow:hover:before {\n",
              "  color: var(--sklearn-color-text);\n",
              "}\n",
              "\n",
              "/* Toggleable content - dropdown */\n",
              "\n",
              "#sk-container-id-1 div.sk-toggleable__content {\n",
              "  max-height: 0;\n",
              "  max-width: 0;\n",
              "  overflow: hidden;\n",
              "  text-align: left;\n",
              "  /* unfitted */\n",
              "  background-color: var(--sklearn-color-unfitted-level-0);\n",
              "}\n",
              "\n",
              "#sk-container-id-1 div.sk-toggleable__content.fitted {\n",
              "  /* fitted */\n",
              "  background-color: var(--sklearn-color-fitted-level-0);\n",
              "}\n",
              "\n",
              "#sk-container-id-1 div.sk-toggleable__content pre {\n",
              "  margin: 0.2em;\n",
              "  border-radius: 0.25em;\n",
              "  color: var(--sklearn-color-text);\n",
              "  /* unfitted */\n",
              "  background-color: var(--sklearn-color-unfitted-level-0);\n",
              "}\n",
              "\n",
              "#sk-container-id-1 div.sk-toggleable__content.fitted pre {\n",
              "  /* unfitted */\n",
              "  background-color: var(--sklearn-color-fitted-level-0);\n",
              "}\n",
              "\n",
              "#sk-container-id-1 input.sk-toggleable__control:checked~div.sk-toggleable__content {\n",
              "  /* Expand drop-down */\n",
              "  max-height: 200px;\n",
              "  max-width: 100%;\n",
              "  overflow: auto;\n",
              "}\n",
              "\n",
              "#sk-container-id-1 input.sk-toggleable__control:checked~label.sk-toggleable__label-arrow:before {\n",
              "  content: \"▾\";\n",
              "}\n",
              "\n",
              "/* Pipeline/ColumnTransformer-specific style */\n",
              "\n",
              "#sk-container-id-1 div.sk-label input.sk-toggleable__control:checked~label.sk-toggleable__label {\n",
              "  color: var(--sklearn-color-text);\n",
              "  background-color: var(--sklearn-color-unfitted-level-2);\n",
              "}\n",
              "\n",
              "#sk-container-id-1 div.sk-label.fitted input.sk-toggleable__control:checked~label.sk-toggleable__label {\n",
              "  background-color: var(--sklearn-color-fitted-level-2);\n",
              "}\n",
              "\n",
              "/* Estimator-specific style */\n",
              "\n",
              "/* Colorize estimator box */\n",
              "#sk-container-id-1 div.sk-estimator input.sk-toggleable__control:checked~label.sk-toggleable__label {\n",
              "  /* unfitted */\n",
              "  background-color: var(--sklearn-color-unfitted-level-2);\n",
              "}\n",
              "\n",
              "#sk-container-id-1 div.sk-estimator.fitted input.sk-toggleable__control:checked~label.sk-toggleable__label {\n",
              "  /* fitted */\n",
              "  background-color: var(--sklearn-color-fitted-level-2);\n",
              "}\n",
              "\n",
              "#sk-container-id-1 div.sk-label label.sk-toggleable__label,\n",
              "#sk-container-id-1 div.sk-label label {\n",
              "  /* The background is the default theme color */\n",
              "  color: var(--sklearn-color-text-on-default-background);\n",
              "}\n",
              "\n",
              "/* On hover, darken the color of the background */\n",
              "#sk-container-id-1 div.sk-label:hover label.sk-toggleable__label {\n",
              "  color: var(--sklearn-color-text);\n",
              "  background-color: var(--sklearn-color-unfitted-level-2);\n",
              "}\n",
              "\n",
              "/* Label box, darken color on hover, fitted */\n",
              "#sk-container-id-1 div.sk-label.fitted:hover label.sk-toggleable__label.fitted {\n",
              "  color: var(--sklearn-color-text);\n",
              "  background-color: var(--sklearn-color-fitted-level-2);\n",
              "}\n",
              "\n",
              "/* Estimator label */\n",
              "\n",
              "#sk-container-id-1 div.sk-label label {\n",
              "  font-family: monospace;\n",
              "  font-weight: bold;\n",
              "  display: inline-block;\n",
              "  line-height: 1.2em;\n",
              "}\n",
              "\n",
              "#sk-container-id-1 div.sk-label-container {\n",
              "  text-align: center;\n",
              "}\n",
              "\n",
              "/* Estimator-specific */\n",
              "#sk-container-id-1 div.sk-estimator {\n",
              "  font-family: monospace;\n",
              "  border: 1px dotted var(--sklearn-color-border-box);\n",
              "  border-radius: 0.25em;\n",
              "  box-sizing: border-box;\n",
              "  margin-bottom: 0.5em;\n",
              "  /* unfitted */\n",
              "  background-color: var(--sklearn-color-unfitted-level-0);\n",
              "}\n",
              "\n",
              "#sk-container-id-1 div.sk-estimator.fitted {\n",
              "  /* fitted */\n",
              "  background-color: var(--sklearn-color-fitted-level-0);\n",
              "}\n",
              "\n",
              "/* on hover */\n",
              "#sk-container-id-1 div.sk-estimator:hover {\n",
              "  /* unfitted */\n",
              "  background-color: var(--sklearn-color-unfitted-level-2);\n",
              "}\n",
              "\n",
              "#sk-container-id-1 div.sk-estimator.fitted:hover {\n",
              "  /* fitted */\n",
              "  background-color: var(--sklearn-color-fitted-level-2);\n",
              "}\n",
              "\n",
              "/* Specification for estimator info (e.g. \"i\" and \"?\") */\n",
              "\n",
              "/* Common style for \"i\" and \"?\" */\n",
              "\n",
              ".sk-estimator-doc-link,\n",
              "a:link.sk-estimator-doc-link,\n",
              "a:visited.sk-estimator-doc-link {\n",
              "  float: right;\n",
              "  font-size: smaller;\n",
              "  line-height: 1em;\n",
              "  font-family: monospace;\n",
              "  background-color: var(--sklearn-color-background);\n",
              "  border-radius: 1em;\n",
              "  height: 1em;\n",
              "  width: 1em;\n",
              "  text-decoration: none !important;\n",
              "  margin-left: 1ex;\n",
              "  /* unfitted */\n",
              "  border: var(--sklearn-color-unfitted-level-1) 1pt solid;\n",
              "  color: var(--sklearn-color-unfitted-level-1);\n",
              "}\n",
              "\n",
              ".sk-estimator-doc-link.fitted,\n",
              "a:link.sk-estimator-doc-link.fitted,\n",
              "a:visited.sk-estimator-doc-link.fitted {\n",
              "  /* fitted */\n",
              "  border: var(--sklearn-color-fitted-level-1) 1pt solid;\n",
              "  color: var(--sklearn-color-fitted-level-1);\n",
              "}\n",
              "\n",
              "/* On hover */\n",
              "div.sk-estimator:hover .sk-estimator-doc-link:hover,\n",
              ".sk-estimator-doc-link:hover,\n",
              "div.sk-label-container:hover .sk-estimator-doc-link:hover,\n",
              ".sk-estimator-doc-link:hover {\n",
              "  /* unfitted */\n",
              "  background-color: var(--sklearn-color-unfitted-level-3);\n",
              "  color: var(--sklearn-color-background);\n",
              "  text-decoration: none;\n",
              "}\n",
              "\n",
              "div.sk-estimator.fitted:hover .sk-estimator-doc-link.fitted:hover,\n",
              ".sk-estimator-doc-link.fitted:hover,\n",
              "div.sk-label-container:hover .sk-estimator-doc-link.fitted:hover,\n",
              ".sk-estimator-doc-link.fitted:hover {\n",
              "  /* fitted */\n",
              "  background-color: var(--sklearn-color-fitted-level-3);\n",
              "  color: var(--sklearn-color-background);\n",
              "  text-decoration: none;\n",
              "}\n",
              "\n",
              "/* Span, style for the box shown on hovering the info icon */\n",
              ".sk-estimator-doc-link span {\n",
              "  display: none;\n",
              "  z-index: 9999;\n",
              "  position: relative;\n",
              "  font-weight: normal;\n",
              "  right: .2ex;\n",
              "  padding: .5ex;\n",
              "  margin: .5ex;\n",
              "  width: min-content;\n",
              "  min-width: 20ex;\n",
              "  max-width: 50ex;\n",
              "  color: var(--sklearn-color-text);\n",
              "  box-shadow: 2pt 2pt 4pt #999;\n",
              "  /* unfitted */\n",
              "  background: var(--sklearn-color-unfitted-level-0);\n",
              "  border: .5pt solid var(--sklearn-color-unfitted-level-3);\n",
              "}\n",
              "\n",
              ".sk-estimator-doc-link.fitted span {\n",
              "  /* fitted */\n",
              "  background: var(--sklearn-color-fitted-level-0);\n",
              "  border: var(--sklearn-color-fitted-level-3);\n",
              "}\n",
              "\n",
              ".sk-estimator-doc-link:hover span {\n",
              "  display: block;\n",
              "}\n",
              "\n",
              "/* \"?\"-specific style due to the `<a>` HTML tag */\n",
              "\n",
              "#sk-container-id-1 a.estimator_doc_link {\n",
              "  float: right;\n",
              "  font-size: 1rem;\n",
              "  line-height: 1em;\n",
              "  font-family: monospace;\n",
              "  background-color: var(--sklearn-color-background);\n",
              "  border-radius: 1rem;\n",
              "  height: 1rem;\n",
              "  width: 1rem;\n",
              "  text-decoration: none;\n",
              "  /* unfitted */\n",
              "  color: var(--sklearn-color-unfitted-level-1);\n",
              "  border: var(--sklearn-color-unfitted-level-1) 1pt solid;\n",
              "}\n",
              "\n",
              "#sk-container-id-1 a.estimator_doc_link.fitted {\n",
              "  /* fitted */\n",
              "  border: var(--sklearn-color-fitted-level-1) 1pt solid;\n",
              "  color: var(--sklearn-color-fitted-level-1);\n",
              "}\n",
              "\n",
              "/* On hover */\n",
              "#sk-container-id-1 a.estimator_doc_link:hover {\n",
              "  /* unfitted */\n",
              "  background-color: var(--sklearn-color-unfitted-level-3);\n",
              "  color: var(--sklearn-color-background);\n",
              "  text-decoration: none;\n",
              "}\n",
              "\n",
              "#sk-container-id-1 a.estimator_doc_link.fitted:hover {\n",
              "  /* fitted */\n",
              "  background-color: var(--sklearn-color-fitted-level-3);\n",
              "}\n",
              "</style><div id=\"sk-container-id-1\" class=\"sk-top-container\"><div class=\"sk-text-repr-fallback\"><pre>ThresholdOptimizer(constraints=&#x27;demographic_parity&#x27;,\n",
              "                   estimator=RandomForestClassifier(bootstrap=True,\n",
              "                                                    ccp_alpha=0.0,\n",
              "                                                    class_weight=None,\n",
              "                                                    criterion=&#x27;gini&#x27;,\n",
              "                                                    max_depth=None,\n",
              "                                                    max_features=&#x27;sqrt&#x27;,\n",
              "                                                    max_leaf_nodes=None,\n",
              "                                                    max_samples=None,\n",
              "                                                    min_impurity_decrease=0.0,\n",
              "                                                    min_samples_leaf=1,\n",
              "                                                    min_samples_split=2,\n",
              "                                                    min_weight_fraction_leaf=0.0,\n",
              "                                                    monotonic_cst=None,\n",
              "                                                    n_estimators=100,\n",
              "                                                    n_jobs=None,\n",
              "                                                    oob_score=False,\n",
              "                                                    random_state=None,\n",
              "                                                    verbose=0,\n",
              "                                                    warm_start=False),\n",
              "                   flip=False, grid_size=1000, objective=&#x27;accuracy_score&#x27;,\n",
              "                   predict_method=&#x27;predict_proba&#x27;, prefit=False)</pre><b>In a Jupyter environment, please rerun this cell to show the HTML representation or trust the notebook. <br />On GitHub, the HTML representation is unable to render, please try loading this page with nbviewer.org.</b></div><div class=\"sk-container\" hidden><div class=\"sk-item sk-dashed-wrapped\"><div class=\"sk-label-container\"><div class=\"sk-label fitted sk-toggleable\"><input class=\"sk-toggleable__control sk-hidden--visually\" id=\"sk-estimator-id-1\" type=\"checkbox\" ><label for=\"sk-estimator-id-1\" class=\"sk-toggleable__label fitted sk-toggleable__label-arrow fitted\">&nbsp;ThresholdOptimizer<span class=\"sk-estimator-doc-link fitted\">i<span>Fitted</span></span></label><div class=\"sk-toggleable__content fitted\"><pre>ThresholdOptimizer(constraints=&#x27;demographic_parity&#x27;,\n",
              "                   estimator=RandomForestClassifier(bootstrap=True,\n",
              "                                                    ccp_alpha=0.0,\n",
              "                                                    class_weight=None,\n",
              "                                                    criterion=&#x27;gini&#x27;,\n",
              "                                                    max_depth=None,\n",
              "                                                    max_features=&#x27;sqrt&#x27;,\n",
              "                                                    max_leaf_nodes=None,\n",
              "                                                    max_samples=None,\n",
              "                                                    min_impurity_decrease=0.0,\n",
              "                                                    min_samples_leaf=1,\n",
              "                                                    min_samples_split=2,\n",
              "                                                    min_weight_fraction_leaf=0.0,\n",
              "                                                    monotonic_cst=None,\n",
              "                                                    n_estimators=100,\n",
              "                                                    n_jobs=None,\n",
              "                                                    oob_score=False,\n",
              "                                                    random_state=None,\n",
              "                                                    verbose=0,\n",
              "                                                    warm_start=False),\n",
              "                   flip=False, grid_size=1000, objective=&#x27;accuracy_score&#x27;,\n",
              "                   predict_method=&#x27;predict_proba&#x27;, prefit=False)</pre></div> </div></div><div class=\"sk-parallel\"><div class=\"sk-parallel-item\"><div class=\"sk-item\"><div class=\"sk-label-container\"><div class=\"sk-label fitted sk-toggleable\"><input class=\"sk-toggleable__control sk-hidden--visually\" id=\"sk-estimator-id-2\" type=\"checkbox\" ><label for=\"sk-estimator-id-2\" class=\"sk-toggleable__label fitted sk-toggleable__label-arrow fitted\">estimator: RandomForestClassifier</label><div class=\"sk-toggleable__content fitted\"><pre>RandomForestClassifier(bootstrap=True, ccp_alpha=0.0, class_weight=None,\n",
              "                       criterion=&#x27;gini&#x27;, max_depth=None, max_features=&#x27;sqrt&#x27;,\n",
              "                       max_leaf_nodes=None, max_samples=None,\n",
              "                       min_impurity_decrease=0.0, min_samples_leaf=1,\n",
              "                       min_samples_split=2, min_weight_fraction_leaf=0.0,\n",
              "                       monotonic_cst=None, n_estimators=100, n_jobs=None,\n",
              "                       oob_score=False, random_state=None, verbose=0,\n",
              "                       warm_start=False)</pre></div> </div></div><div class=\"sk-serial\"><div class=\"sk-item\"><div class=\"sk-estimator fitted sk-toggleable\"><input class=\"sk-toggleable__control sk-hidden--visually\" id=\"sk-estimator-id-3\" type=\"checkbox\" ><label for=\"sk-estimator-id-3\" class=\"sk-toggleable__label fitted sk-toggleable__label-arrow fitted\">&nbsp;RandomForestClassifier<a class=\"sk-estimator-doc-link fitted\" rel=\"noreferrer\" target=\"_blank\" href=\"https://scikit-learn.org/1.4/modules/generated/sklearn.ensemble.RandomForestClassifier.html\">?<span>Documentation for RandomForestClassifier</span></a></label><div class=\"sk-toggleable__content fitted\"><pre>RandomForestClassifier()</pre></div> </div></div></div></div></div></div></div></div></div>"
            ],
            "text/plain": [
              "ThresholdOptimizer(constraints='demographic_parity',\n",
              "                   estimator=RandomForestClassifier(bootstrap=True,\n",
              "                                                    ccp_alpha=0.0,\n",
              "                                                    class_weight=None,\n",
              "                                                    criterion='gini',\n",
              "                                                    max_depth=None,\n",
              "                                                    max_features='sqrt',\n",
              "                                                    max_leaf_nodes=None,\n",
              "                                                    max_samples=None,\n",
              "                                                    min_impurity_decrease=0.0,\n",
              "                                                    min_samples_leaf=1,\n",
              "                                                    min_samples_split=2,\n",
              "                                                    min_weight_fraction_leaf=0.0,\n",
              "                                                    monotonic_cst=None,\n",
              "                                                    n_estimators=100,\n",
              "                                                    n_jobs=None,\n",
              "                                                    oob_score=False,\n",
              "                                                    random_state=None,\n",
              "                                                    verbose=0,\n",
              "                                                    warm_start=False),\n",
              "                   flip=False, grid_size=1000, objective='accuracy_score',\n",
              "                   predict_method='predict_proba', prefit=False)"
            ]
          },
          "execution_count": 26,
          "metadata": {},
          "output_type": "execute_result"
        }
      ],
      "source": [
        "threshold_optimizer = ThresholdOptimizer(\n",
        "    estimator=clf,\n",
        "    constraints=\"demographic_parity\",\n",
        "    predict_method=\"predict_proba\",\n",
        "    prefit=False,\n",
        ")\n",
        "\n",
        "threshold_optimizer.fit(X_train, y_train, sensitive_features=A_train)"
      ]
    },
    {
      "cell_type": "code",
      "execution_count": 27,
      "id": "NK0xQU6YJOSU",
      "metadata": {
        "id": "NK0xQU6YJOSU"
      },
      "outputs": [
        {
          "name": "stdout",
          "output_type": "stream",
          "text": [
            "{\n",
            "    \"1\": {\n",
            "        \"p0\": 0.9285450901803608,\n",
            "        \"operation0\": \"[>0.14500000000000002]\",\n",
            "        \"p1\": 0.0714549098196392,\n",
            "        \"operation1\": \"[>-inf]\"\n",
            "    },\n",
            "    \"2\": {\n",
            "        \"p0\": 0.20933333333332974,\n",
            "        \"operation0\": \"[>0.685]\",\n",
            "        \"p1\": 0.7906666666666703,\n",
            "        \"operation1\": \"[>0.43]\"\n",
            "    },\n",
            "    \"3\": {\n",
            "        \"p0\": 0.08222222222222207,\n",
            "        \"operation0\": \"[>inf]\",\n",
            "        \"p1\": 0.9177777777777779,\n",
            "        \"operation1\": \"[>0.805]\"\n",
            "    }\n",
            "}\n"
          ]
        },
        {
          "data": {
            "image/png": "[encoded data removed]",
            "text/plain": [
              "<Figure size 800x550 with 1 Axes>"
            ]
          },
          "metadata": {},
          "output_type": "display_data"
        }
      ],
      "source": [
        "y_pred_opt = threshold_optimizer.predict(X_test, sensitive_features=A_test)\n",
        "\n",
        "print(\n",
        "    json.dumps(\n",
        "        threshold_optimizer.interpolated_thresholder_.interpolation_dict,\n",
        "        default=str,\n",
        "        indent=4,\n",
        "    )\n",
        ")\n",
        "\n",
        "plot_threshold_optimizer(threshold_optimizer)"
      ]
    },
    {
      "cell_type": "code",
      "execution_count": 28,
      "id": "5OnTOY2JJacg",
      "metadata": {
        "id": "5OnTOY2JJacg"
      },
      "outputs": [
        {
          "name": "stdout",
          "output_type": "stream",
          "text": [
            "Value of demographic parity ratio (after post-processing): 0.56\n",
            "Value of equal odds ratio (after post-processing): 0.0\n"
          ]
        }
      ],
      "source": [
        "m_dpr_opt = demographic_parity_ratio(y_test, y_pred_opt, sensitive_features=A_test)\n",
        "m_eqo_opt = equalized_odds_ratio(y_test, y_pred_opt, sensitive_features=A_test)\n",
        "print(f'Value of demographic parity ratio (after post-processing): {round(m_dpr_opt, 2)}')\n",
        "print(f'Value of equal odds ratio (after post-processing): {round(m_eqo_opt, 2)}')"
      ]
    },
    {
      "cell_type": "code",
      "execution_count": 29,
      "id": "YAnvP9kSJafH",
      "metadata": {
        "id": "YAnvP9kSJafH"
      },
      "outputs": [
        {
          "name": "stdout",
          "output_type": "stream",
          "text": [
            "Accuracy of fair model: 0.9552\n",
            "Demographic parity ratio of fair model: 0.6453402366863905\n"
          ]
        }
      ],
      "source": [
        "dp = DemographicParity()\n",
        "classifier = RandomForestClassifier()\n",
        "\n",
        "# Entrenamiento del modelo con la técnica Exponentiated Gradient\n",
        "fair_clf = ExponentiatedGradient(classifier, dp)\n",
        "fair_clf.fit(X_train, y_train, sensitive_features=A_train)\n",
        "\n",
        "# Predicciones con el modelo mitigado\n",
        "y_pred_fair = fair_clf.predict(X_test)\n",
        "\n",
        "# Evaluación de la precisión y equidad del modelo mitigado\n",
        "accuracy_fair = accuracy_score(y_test, y_pred_fair)\n",
        "dpr_fair = demographic_parity_ratio(y_test, y_pred_fair, sensitive_features=A_test)\n",
        "print(f'Accuracy of fair model: {accuracy_fair}')\n",
        "print(f'Demographic parity ratio of fair model: {dpr_fair}')"
      ]
    },
    {
      "cell_type": "code",
      "execution_count": 30,
      "id": "6EXLtbE_JahW",
      "metadata": {
        "id": "6EXLtbE_JahW"
      },
      "outputs": [
        {
          "data": {
            "image/png": "[encoded data removed]",
            "text/plain": [
              "<Figure size 800x550 with 1 Axes>"
            ]
          },
          "metadata": {},
          "output_type": "display_data"
        }
      ],
      "source": [
        "# Diccionario de mapeo de valores numéricos a etiquetas descriptivas\n",
        "mapping_dict = {\n",
        "    1: 'Título de grado',\n",
        "    2: 'Título de maestría',\n",
        "    3: 'Títulos profesionales avanzados (Phd, MD, etc)'\n",
        "}\n",
        "\n",
        "# Convertir los valores numéricos en etiquetas descriptivas para los datos sensibles\n",
        "sensitive_features_labels = [mapping_dict[value] for value in A_test]\n",
        "\n",
        "# Agrupar las predicciones positivas por grupo demográfico\n",
        "positive_predictions = y_pred_fair[y_pred_fair == 1]\n",
        "\n",
        "# predicciones positivas por grupo demográfico\n",
        "count_by_group = {}\n",
        "for group in set(sensitive_features_labels):\n",
        "    count_by_group[group] = np.sum(np.array(sensitive_features_labels) == group)\n",
        "\n",
        "# Graficar la distribución de las predicciones positivas por grupo demográfico\n",
        "plt.bar(count_by_group.keys(), count_by_group.values())\n",
        "plt.xlabel('Grupo demográfico')\n",
        "plt.ylabel('Cantidad de predicciones positivas')\n",
        "plt.title('Distribución de Predicciones Positivas por Grupo Demográfico')\n",
        "plt.xticks(rotation=45, ha='right')\n",
        "plt.show()"
      ]
    },
    {
      "cell_type": "markdown",
      "id": "858244f5-ab6e-4418-ac5b-239a46f2e49d",
      "metadata": {
        "id": "858244f5-ab6e-4418-ac5b-239a46f2e49d"
      },
      "source": [
        "<div id='id5'/>\n",
        "    \n",
        "## Conclusiones"
      ]
    }
  ],
  "metadata": {
    "colab": {
      "provenance": []
    },
    "kernelspec": {
      "display_name": "Python 3 (ipykernel)",
      "language": "python",
      "name": "python3"
    },
    "language_info": {
      "codemirror_mode": {
        "name": "ipython",
        "version": 3
      },
      "file_extension": ".py",
      "mimetype": "text/x-python",
      "name": "python",
      "nbconvert_exporter": "python",
      "pygments_lexer": "ipython3",
      "version": "3.9.19"
    }
  },
  "nbformat": 4,
  "nbformat_minor": 5
}
